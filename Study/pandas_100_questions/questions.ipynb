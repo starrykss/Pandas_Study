{
  "cells": [
    {
      "cell_type": "code",
      "execution_count": null,
      "metadata": {
        "id": "UVoYgTRvX2iI"
      },
      "outputs": [],
      "source": [
        "# 빅데이터 분석 기사 실기 시험 준비를 위한 판다스 100제 전체 실습 환경 구성\n",
        "\n",
        "# 데이터 다운로드 : https://cafe.daum.net/oracleoracle/Smgg/1\n",
        "\n",
        "import  pandas  as  pd\n",
        "\n",
        "emp20=pd.read_csv(\"./datasets/emp20.csv\", encoding=\"euckr\")\n",
        "emp = pd.read_csv(\"./datasets/emp.csv\")\n",
        "tit = pd.read_csv(\"./datasets/train.csv\")\n",
        "dept = pd.read_csv(\"./datasets/dept.csv\")\n",
        "boston = pd.read_csv(\"./datasets/boston.csv\")"
      ]
    },
    {
      "cell_type": "markdown",
      "metadata": {},
      "source": [
        "- 코랩에서 진행할 경우 주석 해제 후 사용"
      ]
    },
    {
      "cell_type": "code",
      "execution_count": null,
      "metadata": {
        "colab": {
          "base_uri": "https://localhost:8080/"
        },
        "id": "PQbgtl3gC1cW",
        "outputId": "ca8bf280-1df2-495f-8beb-74b63b951157"
      },
      "outputs": [],
      "source": [
        "# from google.colab import drive\n",
        "# drive.mount('/content/drive')"
      ]
    },
    {
      "cell_type": "code",
      "execution_count": null,
      "metadata": {
        "colab": {
          "base_uri": "https://localhost:8080/",
          "height": 488
        },
        "id": "jECfeZFsEEy9",
        "outputId": "0bb4c145-e516-4c4e-d00d-2fa9b3bfa86a"
      },
      "outputs": [],
      "source": [
        "# ▩ 예제1.  판다스 모듈 이란? \n",
        "\n",
        "# 판다스(pandas)  모듈(module) ?\n",
        "\n",
        "# 1.  csv 파일이나 엑셀 파일의 데이터를 검색하기 편하도록  구현한 \n",
        "#     파이썬  함수들을 모아놓은 코드들의 집합\n",
        "# 2. 데이터 시각화  함수들이 내장 되어 있습니다. \n",
        "# 3. 데이터 분석 함수들이 내장되어 있습니다.\n",
        "# 4. 기계학습에 필요한 함수들이 내장되어 있습니다. \n",
        "\n",
        "# 코드설명 :\n",
        "import   pandas    as    pd \n",
        "#  판다스 모듈(module)  을 지금 이 주피터 노트북 창에 불러와라\n",
        "# 그리고  앞으로  pandas 라고 안하고 pd 라고 하겠다. \n",
        "\n",
        "emp = pd.read_csv(\"/content/drive/MyDrive/data100/emp.csv\")\n",
        "# 판다스의 read_csv 라는 함수를 이용해서 emp.csv 파일을 불러와서\n",
        "# emp 라는 이름으로  데이터 프레임(테이블)을 생성해라 ~\n",
        "\n",
        "emp  \n",
        "# emp 데이터 프레임의 내용을 출력한다. "
      ]
    },
    {
      "cell_type": "code",
      "execution_count": null,
      "metadata": {
        "colab": {
          "base_uri": "https://localhost:8080/",
          "height": 488
        },
        "id": "KEjqKXqHMG12",
        "outputId": "a9bd9828-c086-4287-a5d0-46e3d9dc51b2"
      },
      "outputs": [],
      "source": [
        "# 문제1.판다스 모듈을 이용해서 emp.csv 로 emp 데이터 프레임을 생성하시오 !\n",
        "\n",
        "# 데이터 다운로드 주소: https://cafe.daum.net/oracleoracle/SDMs/470\n",
        "\n",
        "import pandas  as pd\n",
        "\n",
        "emp = pd.read_csv(\"/content/drive/MyDrive/data100/emp.csv\")\n",
        "emp"
      ]
    },
    {
      "cell_type": "code",
      "execution_count": null,
      "metadata": {
        "colab": {
          "base_uri": "https://localhost:8080/",
          "height": 488
        },
        "id": "tgGXiJktLan0",
        "outputId": "14e05beb-5f70-4ffb-ba7a-eab6a34c148f"
      },
      "outputs": [],
      "source": [
        "#▩ 예제2.   특정 컬럼 출력하기 \n",
        "\n",
        "# 문법:    데이터프레임명 [  ['컬럼명1', '컬럼명2' ]  ]   \n",
        "\n",
        "# emp 데이터 프레임에서 이름과 월급을 출력하세요 !\n",
        "\n",
        "emp = pd.read_csv(\"/content/drive/MyDrive/data100/emp.csv\")\n",
        "\n",
        "emp[ ['ename', 'sal' ]  ] "
      ]
    },
    {
      "cell_type": "code",
      "execution_count": null,
      "metadata": {
        "colab": {
          "base_uri": "https://localhost:8080/",
          "height": 488
        },
        "id": "scu0dU5ONk-t",
        "outputId": "0cc3aac5-7c4a-484f-ceb6-f20740928362"
      },
      "outputs": [],
      "source": [
        "#문제2.    사원번호, 이름, 월급, 직업을 출력하시오 !\n",
        "\n",
        "#답:\n",
        "emp = pd.read_csv(\"/content/drive/MyDrive/data100/emp.csv\")\n",
        "\n"
      ]
    },
    {
      "cell_type": "code",
      "execution_count": null,
      "metadata": {
        "colab": {
          "base_uri": "https://localhost:8080/",
          "height": 112
        },
        "id": "PfQqDf4MOmg3",
        "outputId": "5f80b28e-ce0b-48ec-9c44-2b438e21a74b"
      },
      "outputs": [],
      "source": [
        "# ▩ 예제3.  특정 검색 조건에 해당하는 데이터 검색하기 \n",
        "\n",
        "# 문법:  데이터프레임명[ ['컬럼명1', '컬럼명2'] ]  [  검색조건  ]  \n",
        "\n",
        "# 예제:    월급이 3000 인 사원들의 이름과 월급을 출력하시오\n",
        "\n",
        "emp = pd.read_csv(\"/content/drive/MyDrive/data100/emp.csv\")\n",
        "\n",
        "emp[ [ 'ename', 'sal' ]  ]  [  emp['sal'] == 3000 ] \n",
        "\n",
        "# ※ 비교 연산자   :  >, <, >=, <=, ==,  != \n",
        "               "
      ]
    },
    {
      "cell_type": "code",
      "execution_count": null,
      "metadata": {
        "id": "_eDHkUxsPHMl"
      },
      "outputs": [],
      "source": []
    },
    {
      "cell_type": "code",
      "execution_count": null,
      "metadata": {
        "colab": {
          "base_uri": "https://localhost:8080/",
          "height": 175
        },
        "id": "i_eI2JW9PHoF",
        "outputId": "cb0929de-2260-4674-994c-15f67819cbbe"
      },
      "outputs": [],
      "source": [
        "# 문제3.  직업이  SALESMAN 인 사원들의 이름과 월급과 직업을 출력하시오 !\n",
        "\n",
        "#답: \n",
        "emp = pd.read_csv(\"/content/drive/MyDrive/data100/emp.csv\")\n",
        "\n",
        "\n"
      ]
    },
    {
      "cell_type": "code",
      "execution_count": null,
      "metadata": {
        "id": "LfmRfPYoPKhW"
      },
      "outputs": [],
      "source": []
    },
    {
      "cell_type": "code",
      "execution_count": null,
      "metadata": {
        "colab": {
          "base_uri": "https://localhost:8080/",
          "height": 394
        },
        "id": "JXyBlja2PAnl",
        "outputId": "75aa1a76-ebb3-4530-fd99-b5550c68529b"
      },
      "outputs": [],
      "source": [
        "# 문제4.  월급이 1200 이상인 사원들의 이름과 월급과 직업을 출력하시오 ! \n",
        "\n",
        "#답: \n",
        "emp = pd.read_csv(\"/content/drive/MyDrive/data100/emp.csv\")\n",
        "\n",
        "\n"
      ]
    },
    {
      "cell_type": "code",
      "execution_count": null,
      "metadata": {
        "id": "VoOB98LaXhGQ"
      },
      "outputs": [],
      "source": []
    },
    {
      "cell_type": "code",
      "execution_count": null,
      "metadata": {
        "colab": {
          "base_uri": "https://localhost:8080/",
          "height": 206
        },
        "id": "ad7A80l3XhJY",
        "outputId": "5815c73c-b177-46aa-c4f9-4b7231256851"
      },
      "outputs": [],
      "source": [
        "#문제5.   부서번호가 20번인 사원들의 이름과 월급과 부서번호를 출력하시오 !\n",
        "\n",
        "#답: \n",
        "emp = pd.read_csv(\"/content/drive/MyDrive/data100/emp.csv\")\n",
        "\n",
        "\n",
        "\n"
      ]
    },
    {
      "cell_type": "code",
      "execution_count": null,
      "metadata": {
        "id": "wBp1KevRXhMO"
      },
      "outputs": [],
      "source": []
    },
    {
      "cell_type": "code",
      "execution_count": null,
      "metadata": {
        "id": "R506cElJXhPH"
      },
      "outputs": [],
      "source": [
        "# ▩ 예제4. 자주 사용하는  기타 비교 연산자 4가지 \n",
        "\n",
        "# >, <, >=, <=, ==, !=\n",
        "\n",
        "#           SQL               vs                    판다스 \n",
        "# 1.  between .. and                 emp['sal'].between(1000, 3000)\n",
        "# 2.  in                                       emp['deptno'].isin([ 10, 20 ] )      \n",
        "# 3.  is  null                              emp['comm'].isnull() \n",
        "# 4.  like                                   emp['ename'].apply( lambda 함수) \n"
      ]
    },
    {
      "cell_type": "code",
      "execution_count": null,
      "metadata": {
        "colab": {
          "base_uri": "https://localhost:8080/",
          "height": 394
        },
        "id": "Yg0xC3--XhSC",
        "outputId": "f45b2863-01c2-4014-fbfb-93af4e81d951"
      },
      "outputs": [],
      "source": [
        "# 문제6.   월급이 1000 에서 3000 사이인 사원들의 이름과 월급을 출력하시오 !\n",
        "\n",
        "#답: \n",
        "emp = pd.read_csv(\"/content/drive/MyDrive/data100/emp.csv\")\n",
        "\n"
      ]
    },
    {
      "cell_type": "code",
      "execution_count": null,
      "metadata": {
        "id": "NuWkmL96XhUv"
      },
      "outputs": [],
      "source": []
    },
    {
      "cell_type": "code",
      "execution_count": null,
      "metadata": {
        "colab": {
          "base_uri": "https://localhost:8080/",
          "height": 143
        },
        "id": "NYNIbFiqXhXw",
        "outputId": "3b21ff82-92cd-48de-b460-004ec0a87c2e"
      },
      "outputs": [],
      "source": [
        "#문제7.  월급이 1000 에서 3000 사이가 아닌 사원들의 이름과 월급을 출력하시오 \n",
        "\n",
        "#답: \n",
        "emp = pd.read_csv(\"/content/drive/MyDrive/data100/emp.csv\")\n",
        "\n",
        "\n",
        "\n",
        "# 판다스에서의 not 은 ~ 입니다."
      ]
    },
    {
      "cell_type": "code",
      "execution_count": null,
      "metadata": {
        "id": "bZAvpnTNXha4"
      },
      "outputs": [],
      "source": []
    },
    {
      "cell_type": "code",
      "execution_count": null,
      "metadata": {
        "colab": {
          "base_uri": "https://localhost:8080/",
          "height": 423
        },
        "id": "sLwe9MLsXhdn",
        "outputId": "df7b0faf-cf1a-408f-e916-a11df529644d"
      },
      "outputs": [],
      "source": [
        "# 문제8.  (빅분기 실기 유형1 데이터)  boston.csv 를 boston 이라는\n",
        "#  데이터 프레임으로 구성하시오 !\n",
        "\n",
        "# 데이터 다운로드 주소: https://cafe.daum.net/oracleoracle/SDMs/462\n",
        "\n",
        "#답: \n",
        "\n"
      ]
    },
    {
      "cell_type": "code",
      "execution_count": null,
      "metadata": {
        "id": "5t3sptfyXhg6"
      },
      "outputs": [],
      "source": []
    },
    {
      "cell_type": "code",
      "execution_count": null,
      "metadata": {
        "colab": {
          "base_uri": "https://localhost:8080/",
          "height": 423
        },
        "id": "M0ArF0ZRXhj3",
        "outputId": "c53c430c-f6eb-4b79-df94-a72f993f341d"
      },
      "outputs": [],
      "source": [
        "# 문제9.  boston 데이터 프레임에서  price 가  10 에서 30 사이인 \n",
        "#                id 와 price 를 출력하시오 ! \n",
        "\n",
        "# 힌트: emp[['ename','sal']][ ~ emp['sal'].between(1000,3000)  ]\n",
        "#답: \n",
        "boston = pd.read_csv(\"/content/drive/MyDrive/data100/boston.csv\")\n",
        "\n"
      ]
    },
    {
      "cell_type": "code",
      "execution_count": null,
      "metadata": {
        "id": "3RZNVghVXhpu"
      },
      "outputs": [],
      "source": []
    },
    {
      "cell_type": "code",
      "execution_count": null,
      "metadata": {
        "id": "nWrQU0zjXhs-"
      },
      "outputs": [],
      "source": []
    },
    {
      "cell_type": "code",
      "execution_count": null,
      "metadata": {
        "colab": {
          "base_uri": "https://localhost:8080/",
          "height": 423
        },
        "id": "VKDjqR8AXhwG",
        "outputId": "9f5ae093-fd6e-473e-e19f-f2add4313805"
      },
      "outputs": [],
      "source": [
        "# 문제10.   문제9번의 결과를 다시 출력하는데 모든 컬럼을 전부 출력하시오 !\n",
        "\n",
        "#답: \n",
        "boston = pd.read_csv(\"/content/drive/MyDrive/data100/boston.csv\")\n",
        "\n"
      ]
    },
    {
      "cell_type": "code",
      "execution_count": null,
      "metadata": {
        "colab": {
          "base_uri": "https://localhost:8080/",
          "height": 423
        },
        "id": "Eu3lzeD8Xh3H",
        "outputId": "dcce5db2-e0ec-4da9-a61e-d86d0c78227b"
      },
      "outputs": [],
      "source": [
        "# 문제11.  문제10번의 결과를 다시 출력하는데 집값이 10 에서 30 사이가 \n",
        "# 아닌 모든 컬럼을 출력하시오 ! \n",
        "\n",
        "#답: \n",
        "boston = pd.read_csv(\"/content/drive/MyDrive/data100/boston.csv\")\n",
        "\n",
        "\n"
      ]
    },
    {
      "cell_type": "code",
      "execution_count": null,
      "metadata": {
        "colab": {
          "base_uri": "https://localhost:8080/",
          "height": 708
        },
        "id": "btA8lTLfXh6P",
        "outputId": "cedb681a-c853-49e0-d961-4203e175666c"
      },
      "outputs": [],
      "source": [
        "#문제12. emp20.csv 를 emp20 이라는 이름의 데이터 프레임으로 구성하시오 !  \n",
        "\n",
        "# 데이터 다운로드 주소: https://cafe.daum.net/oracleoracle/SDMs/465\n",
        "\n",
        "#답: \n",
        "\n",
        "\n",
        "\n",
        "#설명:  한글 데이터가 섞인  파일을 파이썬으로 불러올 때는\n",
        "#           encoding 옵션을 줘야 합니다. 인코딩이란  기계가 이해하는\n",
        "#           언어로 변환하겠다는 뜻입니다. euckr 은 한글을 이해하는 옵션 입니다. \n"
      ]
    },
    {
      "cell_type": "code",
      "execution_count": null,
      "metadata": {
        "id": "Ksh2vfzbXh93"
      },
      "outputs": [],
      "source": []
    },
    {
      "cell_type": "code",
      "execution_count": null,
      "metadata": {
        "colab": {
          "base_uri": "https://localhost:8080/",
          "height": 331
        },
        "id": "pC9fqYnYXiA8",
        "outputId": "c317bcf2-6d10-4618-ebff-b73ca25d85d0"
      },
      "outputs": [],
      "source": [
        "# 문제13. 나이가  20대인 학생들의 이름과 나이를 출력하시오 !\n",
        "\n",
        "#답: \n",
        "\n",
        "emp20 = pd.read_csv(\"/content/drive/MyDrive/data100/emp20.csv\", encoding=\"euckr\")\n",
        "\n"
      ]
    },
    {
      "cell_type": "code",
      "execution_count": null,
      "metadata": {
        "id": "QE-BdlX-XiDn"
      },
      "outputs": [],
      "source": []
    },
    {
      "cell_type": "code",
      "execution_count": null,
      "metadata": {
        "colab": {
          "base_uri": "https://localhost:8080/",
          "height": 237
        },
        "id": "T2byuOnJXiG6",
        "outputId": "299b39f4-202b-467e-c020-95a4c0f35747"
      },
      "outputs": [],
      "source": [
        "# 문제14.   직업이 SALESMAN, ANALYST 인 사원들의 이름과 직업을  출력하시오 !\n",
        "\n",
        "#답: \n",
        "emp = pd.read_csv(\"/content/drive/MyDrive/data100/emp.csv\")\n",
        "\n",
        "\n",
        "\n"
      ]
    },
    {
      "cell_type": "code",
      "execution_count": null,
      "metadata": {
        "colab": {
          "base_uri": "https://localhost:8080/",
          "height": 300
        },
        "id": "61a9pANbXiKH",
        "outputId": "d5be2c5a-0b49-403a-f42f-c61376ec06c0"
      },
      "outputs": [],
      "source": [
        "#문제15.  emp20 데이터 프레임에서  통신사가 kt,  lg 인 학생들의 이름과 통신사를 출력하시오 !\n",
        "\n",
        "#답: \n",
        "\n",
        "emp20=pd.read_csv(\"/content/drive/MyDrive/data100/emp20.csv\", encoding=\"euckr\")\n",
        "\n"
      ]
    },
    {
      "cell_type": "code",
      "execution_count": null,
      "metadata": {
        "colab": {
          "base_uri": "https://localhost:8080/",
          "height": 457
        },
        "id": "BgSiRZ3WXiNK",
        "outputId": "0aef6e35-a8d9-49d9-9a27-bf916c682187"
      },
      "outputs": [],
      "source": [
        "#문제16.  우리반 테이블에서 통신사가 kt,  lg 가 아닌 학생들의 이름과 통신사를 출력하시오 ! \n",
        "\n",
        "#답: \n",
        "emp20=pd.read_csv(\"/content/drive/MyDrive/data100/emp20.csv\", encoding=\"euckr\")\n",
        "\n",
        "\n"
      ]
    },
    {
      "cell_type": "code",
      "execution_count": null,
      "metadata": {
        "id": "TvI2gkfbXiQH"
      },
      "outputs": [],
      "source": [
        "#           SQL              vs                    판다스 \n",
        "# 1.  between .. and                emp['sal'].between(1000, 3000)\n",
        "# 2.  in                                      emp['deptno'].isin([ 10, 20 ] )      \n",
        "# 3.  is  null                             emp['comm'].isnull() \n",
        "# 4.  like                                   emp['ename'].apply( lambda 함수) "
      ]
    },
    {
      "cell_type": "code",
      "execution_count": null,
      "metadata": {
        "colab": {
          "base_uri": "https://localhost:8080/",
          "height": 363
        },
        "id": "aQ193yBnXiTP",
        "outputId": "a9f68fae-9348-49c0-bd2a-72f61eeb9313"
      },
      "outputs": [],
      "source": [
        "#문제17.    커미션이 null(결측치) 인 사원들의 이름과 커미션을 출력하시오 !\n",
        "\n",
        "emp = pd.read_csv(\"/content/drive/MyDrive/data100/emp.csv\")\n",
        "\n",
        "\n"
      ]
    },
    {
      "cell_type": "code",
      "execution_count": null,
      "metadata": {
        "colab": {
          "base_uri": "https://localhost:8080/",
          "height": 175
        },
        "id": "3pQLSHRAXiWB",
        "outputId": "0643cddb-4a55-4b37-8a56-97a22cd84746"
      },
      "outputs": [],
      "source": [
        "#문제18.  커미션이 null(결측치) 이 아닌 사원들의 이름과 커미션을 출력하시오 !\n",
        "\n",
        "emp = pd.read_csv(\"/content/drive/MyDrive/data100/emp.csv\")\n",
        "\n",
        "\n"
      ]
    },
    {
      "cell_type": "code",
      "execution_count": null,
      "metadata": {
        "id": "hNSkobR5XiY5"
      },
      "outputs": [],
      "source": [
        "\n",
        "        SQL               vs                    판다스 \n",
        " 1.  between .. and               emp['sal'].between(1000, 3000)\n",
        " 2.  in                                     emp['job'].isin([ 10, 20 ] )      \n",
        " 3.  is  null                            emp['comm'].isnull() \n",
        " 4.  like                                  emp['ename'].apply( lambda 함수) \n",
        "\n",
        "  emp  <---   판다스 데이터 프레임 ( dataframe )  ,  오라클의 테이블\n",
        "  emp['sal']  <---   판다스 시리즈(series) ,  오라클의 컬럼 \n",
        "\n",
        "컬럼(시리즈) 의 데이터를 잘 검색할 수  있도록 도와주는 함수들이\n",
        "여러개가 있습니다.   이 중에 apply 라는 함수가 있습니다. \n",
        "apply 함수는 이름 그대로 적용하겠다는 것입니다. \n",
        "어떤 조건을 적용해서 데이터를 검색하겠다는 뜻입니다. \n",
        "\n",
        "예:  이름의 첫번째 철자가 A 인 사원들의  이름을 출력하시오 !\n",
        "\n",
        "emp[ ['ename'] ]   [  emp['ename'].apply(  적용할 검색 조건 )  ]  \n",
        "\n",
        "emp[ ['ename'] ]   [  emp['ename'].apply(  lambda   x : x[0] =='A'  )  ]  \n",
        "                                                   ADAMS :  'A' =='A'\n",
        "\n",
        "lambda   x : x[0] =='A'   <--- 이 부분 설명\n",
        "\n",
        "lambda  -->  이름이 없는 한줄 짜리 함수를 생성할 때 사용하는 키워드 \n",
        "             lambda 다음에 어떤 기능에 대한 코드를 적어주면 됩니다. \n",
        "\n",
        "x : x[0]   --->    입력값을 받은 변수 :  출력을 하는 조건 \n",
        "\n",
        "x 에 뭐가 입력되냐면  emp['ename'] 의 데이터가 x 라는 변수에 입력됩니다. \n",
        "\n",
        "emp['ename']   <--- 이것만 실행해보면  다음과 같이 이름이 출력되는데\n",
        "\n",
        "아래의 이름 14개가 KING 부터 하나씩 x 라는 변수에 입력이 됩니다.  \n",
        "\n",
        "0       KING          ---------------->   x  라는 빈컵 \n",
        "1      BLAKE        ---->  x  :  x[0]  --->  B\n",
        "2      CLARK       ---->   x : x[0]  --->  C \n",
        "3      JONES\n",
        "4     MARTIN\n",
        "5      ALLEN\n",
        "6     TURNER\n",
        "7      JAMES\n",
        "8       WARD\n",
        "9       FORD\n",
        "10     SMITH\n",
        "11     SCOTT\n",
        "12     ADAMS\n",
        "13    MILLER     ---->  x  :  x[0]    ---->  M \n",
        "\n",
        "x 라는 변수에  KING 이 제일 처음 담겼고   출력값으로 x[0] 이 실행되는데 \n",
        "x 다음에 나오는 [0] 을 인덱스라고 합니다. \n",
        "\n",
        "'KING'[0]  이라고  수행한것 입니다.  \n",
        "\n",
        "KING 이라는 문자열에서  0번째 철자를 가져오라는 뜻입니다. \n",
        "\n",
        "파이썬은 1번부터 시작하지 않고 0번부터 시작합니다. \n",
        "\n",
        "'KING'[0]    -->  K\n",
        "'KING'[1]    -->  I\n",
        "'KING'[2]   -->  N\n",
        "'KING'[3] ---->  G\n"
      ]
    },
    {
      "cell_type": "code",
      "execution_count": null,
      "metadata": {
        "colab": {
          "base_uri": "https://localhost:8080/",
          "height": 112
        },
        "id": "85j6PKC5ZIAE",
        "outputId": "85674af9-6dc0-478f-a41a-a8c3b1f87ebb"
      },
      "outputs": [],
      "source": [
        "emp[ ['ename'] ]   [  emp['ename'].apply(  lambda   x : x[0] =='A'  )  ]  "
      ]
    },
    {
      "cell_type": "code",
      "execution_count": null,
      "metadata": {
        "colab": {
          "base_uri": "https://localhost:8080/",
          "height": 81
        },
        "id": "IEz-R8IXXibw",
        "outputId": "3818a56c-cf8b-4ecf-f1ad-7442ec13ed44"
      },
      "outputs": [],
      "source": [
        "#문제19.  이름의 두번째 철자가 M 인 사원들의 이름을 출력하시오 !\n",
        "\n",
        "#답:\n",
        "\n",
        "emp = pd.read_csv(\"/content/drive/MyDrive/data100/emp.csv\") \n",
        "\n",
        "\n"
      ]
    },
    {
      "cell_type": "code",
      "execution_count": null,
      "metadata": {
        "colab": {
          "base_uri": "https://localhost:8080/"
        },
        "id": "w2wSXjq-Zvkk",
        "outputId": "bcb7cdb8-fa3f-4ca9-8e45-2b1d9ff0fed6"
      },
      "outputs": [],
      "source": [
        "emp['ename']\n",
        "\n",
        "KING\n",
        "0123\n",
        "\n",
        "BLA  K   E\n",
        "    -2  -1\n",
        "\n"
      ]
    },
    {
      "cell_type": "code",
      "execution_count": null,
      "metadata": {
        "colab": {
          "base_uri": "https://localhost:8080/",
          "height": 81
        },
        "id": "kMw4kwQnXief",
        "outputId": "d01d0389-28b6-4605-f711-f2e282214479"
      },
      "outputs": [],
      "source": [
        "\n",
        "# 문제20.  이름의 끝글자가 T 로 끝나는 사원들의 이름과 월급을 출력하시오  !\n",
        "\n",
        "#답:\n",
        "emp = pd.read_csv(\"/content/drive/MyDrive/data100/emp.csv\")\n",
        "\n",
        "\n",
        "\n"
      ]
    },
    {
      "cell_type": "code",
      "execution_count": null,
      "metadata": {
        "colab": {
          "base_uri": "https://localhost:8080/",
          "height": 237
        },
        "id": "k1x5AxjWXii0",
        "outputId": "9ae97b11-a8fc-41c7-9c7f-64472b155256"
      },
      "outputs": [],
      "source": [
        "# 문제21.  emp20 테이블에서 성씨가  김씨인 학생들의 이름과 나이를 출력하시오 !\n",
        "\n",
        "emp20=pd.read_csv(\"/content/drive/MyDrive/data100/emp20.csv\", encoding=\"euckr\")\n",
        "\n",
        " "
      ]
    },
    {
      "cell_type": "code",
      "execution_count": null,
      "metadata": {
        "colab": {
          "base_uri": "https://localhost:8080/",
          "height": 519
        },
        "id": "tzoUvsnPzoiX",
        "outputId": "0122c81c-8a18-4584-d09a-056518ed3a69"
      },
      "outputs": [],
      "source": [
        "# 문제22.  성씨가 김씨가 아닌 학생들의 이름과 나이를 출력하시오 !\n",
        "\n",
        "emp20=pd.read_csv(\"/content/drive/MyDrive/data100/emp20.csv\", encoding=\"euckr\")\n",
        "\n",
        "\n",
        "\n"
      ]
    },
    {
      "cell_type": "code",
      "execution_count": null,
      "metadata": {
        "id": "uOOaqvDOzyIX"
      },
      "outputs": [],
      "source": [
        "▩ 예제5.  데이터 정렬하기 !  \n",
        "\n",
        " * 이름와 월급을 출력하는데  월급이 높은 사원부터 출력하시오 !\n",
        "\n",
        "Pandas>  emp[ ['ename', 'sal'] ].sort_values( by ='sal',  ascending=False)  \n",
        "\n",
        "문법:    판다스 데이터프레임(또는 시리즈).sort_values( by='정렬할 컬럼' , ascending=True)\n",
        "                                                                                              ascending= True 또는 False) \n",
        "\n",
        " True 와 False 를 쓸때는 T 와 F 를 대문자로 해주셔야합니다.\n"
      ]
    },
    {
      "cell_type": "code",
      "execution_count": null,
      "metadata": {
        "colab": {
          "base_uri": "https://localhost:8080/",
          "height": 488
        },
        "id": "mh_IQCQgNGSA",
        "outputId": "9de6f8be-6d85-4d61-8d96-031a0eb45adc"
      },
      "outputs": [],
      "source": [
        "emp[ ['ename', 'sal'] ].sort_values( by ='sal',  ascending=True)  "
      ]
    },
    {
      "cell_type": "code",
      "execution_count": null,
      "metadata": {
        "colab": {
          "base_uri": "https://localhost:8080/",
          "height": 175
        },
        "id": "gVL4ie4zzyQB",
        "outputId": "a75c5400-5fa1-48f2-f0ee-af98dfb58e55"
      },
      "outputs": [],
      "source": [
        "# 문제23.  직업이 SALESMAN 인 사원들의  이름과 월급과 직업을 출력하는데 \n",
        "# 월급이 높은 사원부터 출력하시오 !\n",
        "\n",
        "emp = pd.read_csv(\"/content/drive/MyDrive/data100/emp.csv\")\n",
        "\n",
        " "
      ]
    },
    {
      "cell_type": "code",
      "execution_count": null,
      "metadata": {
        "colab": {
          "base_uri": "https://localhost:8080/",
          "height": 488
        },
        "id": "LnW17sJE0V61",
        "outputId": "345f4495-7f8c-4c0b-b8da-75e55cd49efd"
      },
      "outputs": [],
      "source": [
        "# 문제24. 통신사가 kt 가 아닌 학생들의  이름과 나이와 통신사를 출력하는데\n",
        "#         나이가 높은  학생부터 출력하시오 !\n",
        "\n",
        "emp20=pd.read_csv(\"/content/drive/MyDrive/data100/emp20.csv\", encoding=\"euckr\")\n",
        "\n"
      ]
    },
    {
      "cell_type": "code",
      "execution_count": null,
      "metadata": {
        "colab": {
          "base_uri": "https://localhost:8080/"
        },
        "id": "i1JvEEm-0V9c",
        "outputId": "a5ac27ce-7a25-4bf0-f5af-215583a6e284"
      },
      "outputs": [],
      "source": [
        "# 문제25.   EMP 데이터 프레임의 구조를 확인하세요 !\n",
        "\n",
        "#답:\n",
        "\n"
      ]
    },
    {
      "cell_type": "code",
      "execution_count": null,
      "metadata": {
        "id": "rmTzWDTn0V_8"
      },
      "outputs": [],
      "source": [
        "▩ 예제6. 판다스에서 날짜 데이터 다루기\n",
        "\n",
        "기본적으로  엑셀 이나 csv 파일을  판다스 데이터 프레임으로 구성하면\n",
        "날짜 형식이 object 으로 구성됩니다.  즉 문자형 입니다. 그런데\n",
        "문자형이 아니라 날짜형으로 변환을 해야 날짜 데이터를 검색하기가 수월 합니다. \n",
        "날짜형으로 변환하는 작업을 수행해 보겠습니다. \n",
        "\n",
        "*  emp 데이터 프레임의 info() 를 확인합니다. \n",
        "\n",
        "emp.info() \n",
        "\n",
        "0   empno     14 non-null     int64  \n",
        " 1   ename     14 non-null     object \n",
        " 2   job       14 non-null     object \n",
        " 3   mgr       13 non-null     float64\n",
        " 4   hiredate  14 non-null     object   <----  문자로 되어 있습니다. \n",
        " 5   sal       14 non-null     int64  \n",
        " 6   comm      4 non-null      float64\n",
        " 7   deptno    14 non-null     int64  \n",
        "\n",
        "* emp 데이터 프레임의 hiredate 를  날짜형으로 변환합니다.\n",
        "\n",
        "import   pandas  as   pd \n",
        "emp['hiredate']  =  pd.to_datetime( emp['hiredate']) \n",
        "emp.info() \n",
        "\n",
        "※ 판다스 함수중에 to_datetime 함수를 이용해서 emp['hiredate'] 를\n",
        "     날짜형으로 변환합니다.  변환하고 emp['hiredate'] 에 반영합니다. \n",
        "\n",
        "hiredate  14 non-null     datetime64[ns]  <--- 날짜형 데이터 유형으로 변경됨\n",
        "  "
      ]
    },
    {
      "cell_type": "code",
      "execution_count": null,
      "metadata": {
        "colab": {
          "base_uri": "https://localhost:8080/"
        },
        "id": "tAf-ntdn1NLf",
        "outputId": "70914388-8a5a-4ad7-e7b6-d85ef44d7e9f"
      },
      "outputs": [],
      "source": [
        "import   pandas  as   pd \n",
        "emp['hiredate']  =  pd.to_datetime( emp['hiredate']) \n",
        "emp.info() "
      ]
    },
    {
      "cell_type": "code",
      "execution_count": null,
      "metadata": {
        "colab": {
          "base_uri": "https://localhost:8080/",
          "height": 81
        },
        "id": "XEh1xiqr0WC7",
        "outputId": "8d38930e-a850-4bf7-d274-be4464573cec"
      },
      "outputs": [],
      "source": [
        "#문제26.  81년 11월 17일에 입사한 사원들의 이름과 입사일을 출력하시오\n",
        "\n",
        "#답:\n",
        "\n",
        "emp = pd.read_csv(\"/content/drive/MyDrive/data100/emp.csv\")\n",
        "\n",
        "\n"
      ]
    },
    {
      "cell_type": "code",
      "execution_count": null,
      "metadata": {
        "colab": {
          "base_uri": "https://localhost:8080/",
          "height": 363
        },
        "id": "GB4_OMnH0WFy",
        "outputId": "7e871e13-d59d-4713-ca09-18a79a82030e"
      },
      "outputs": [],
      "source": [
        "#문제27.  81년도에 입사한 사원들의 이름과 입사일을 출력하시오 !\n",
        "\n",
        "#답:\n",
        "emp = pd.read_csv(\"/content/drive/MyDrive/data100/emp.csv\")\n",
        "\n"
      ]
    },
    {
      "cell_type": "code",
      "execution_count": null,
      "metadata": {
        "colab": {
          "base_uri": "https://localhost:8080/",
          "height": 175
        },
        "id": "9log3_XN0WIf",
        "outputId": "e19aeab0-07b5-4963-b93d-cd5e7cbab9ba"
      },
      "outputs": [],
      "source": [
        "# 문제28.  직업이 SALESMAN 이고 1981년도에 입사한 사원들의 이름과 직업과 입사일을 출력하세요\n",
        "\n",
        "#답:\n",
        " \n",
        "emp = pd.read_csv(\"/content/drive/MyDrive/data100/emp.csv\")\n",
        "\n",
        "\n"
      ]
    },
    {
      "cell_type": "code",
      "execution_count": null,
      "metadata": {
        "id": "GplM1WaR0WK3"
      },
      "outputs": [],
      "source": [
        "▩ 예제7.  중복된 데이터를 제거하는 방법 \n",
        "\n",
        "* 부서번호를 출력하는데 중복을 제거해서 출력하시오 !\n",
        "\n",
        "Pandas>  emp['deptno'].unique()"
      ]
    },
    {
      "cell_type": "code",
      "execution_count": null,
      "metadata": {
        "colab": {
          "base_uri": "https://localhost:8080/"
        },
        "id": "nEGZjLcISvnO",
        "outputId": "a3e9bc29-fdca-4a40-9ea7-86570955c6ab"
      },
      "outputs": [],
      "source": [
        "emp['deptno'].unique()"
      ]
    },
    {
      "cell_type": "code",
      "execution_count": null,
      "metadata": {
        "colab": {
          "base_uri": "https://localhost:8080/",
          "height": 423
        },
        "id": "wLxRl0Cl0WNo",
        "outputId": "f67321bc-d12f-49c3-8666-dffe37035086"
      },
      "outputs": [],
      "source": [
        "#문제29.   타이타닉 데이터의 훈련 데이터인 train.csv 를 불러와서  tit 라는\n",
        "#                데이터 프레임을 생성하시오 ! \n",
        "\n",
        "# 데이터 다운로드 주소:  https://cafe.daum.net/oracleoracle/SDMs/466\n",
        "\n",
        "\n",
        "#답: \n",
        "\n",
        "\n"
      ]
    },
    {
      "cell_type": "code",
      "execution_count": null,
      "metadata": {
        "colab": {
          "base_uri": "https://localhost:8080/"
        },
        "id": "yOMCEV5x0WQE",
        "outputId": "6c41d0e3-753d-453a-f98b-deb0a1764a39"
      },
      "outputs": [],
      "source": [
        "# 문제30.  tit 데이터 프레임에서  Pclass 를 출력하는데 중복을 제거해서 \n",
        "#          출력하시오 !\n",
        "\n",
        "#답 :\n",
        "\n",
        "tit = pd.read_csv('/content/drive/MyDrive/data100/train.csv')\n",
        "\n",
        "\n"
      ]
    },
    {
      "cell_type": "code",
      "execution_count": null,
      "metadata": {
        "colab": {
          "base_uri": "https://localhost:8080/"
        },
        "id": "6b6yi7HH0WSt",
        "outputId": "5ac0229f-8229-4ff9-fb9b-6bd87376428b"
      },
      "outputs": [],
      "source": [
        "# 문제31.  부서번호가 20번인 사원들의 직업을 출력하는데 중복을 제거해서 출력하시오\n",
        "\n",
        "#답:\n",
        "\n",
        "emp = pd.read_csv(\"/content/drive/MyDrive/data100/emp.csv\")\n",
        "\n"
      ]
    },
    {
      "cell_type": "code",
      "execution_count": null,
      "metadata": {
        "id": "Pm8eJmU93lOl"
      },
      "outputs": [],
      "source": [
        "설명:\n",
        "type( emp[['job']] [ emp['deptno']==20 ] )\n",
        "\n",
        "pandas.core.frame.DataFrame\n",
        "\n",
        "type( emp['job'] [ emp['deptno']==20 ] )\n",
        "\n",
        "pandas.core.series.Series\n",
        "\n",
        "대괄호를 2개 썼을때는 데이터 프레임 형태(테이블)로 출력되고 \n",
        "대괄호를 1개 썼을때는 시리즈(컬럼)  형태로 출력됩니다. \n",
        "unique()  함수는 시리즈의 함수입니다. \n",
        "\n",
        "emp['job'] [ emp['deptno']==20 ].unique()     <---  이렇게 해야 가능\n",
        "\n",
        "emp[['job']] [ emp['deptno']==20 ].unique()   <--- 이렇게 하면 에러남 "
      ]
    },
    {
      "cell_type": "code",
      "execution_count": null,
      "metadata": {
        "id": "8S4saidj3wuW"
      },
      "outputs": [],
      "source": []
    },
    {
      "cell_type": "code",
      "execution_count": null,
      "metadata": {
        "colab": {
          "base_uri": "https://localhost:8080/"
        },
        "id": "fa6s_fZF3wxR",
        "outputId": "8c95575b-eb89-4cb3-f268-60ba68725443"
      },
      "outputs": [],
      "source": [
        "#문제32. emp20 데이터 프레임에서 통신사가 sk, kt 인 학생들의 나이를 출력하는데 \n",
        "#        중복을 제거해서 출력하시오 !\n",
        "\n",
        "\n",
        "#답:\n",
        "\n",
        "import pandas as pd\n",
        "\n",
        "emp20=pd.read_csv(\"/content/drive/MyDrive/data100/emp20.csv\", encoding=\"euckr\")\n",
        "\n"
      ]
    },
    {
      "cell_type": "code",
      "execution_count": null,
      "metadata": {
        "colab": {
          "base_uri": "https://localhost:8080/"
        },
        "id": "_DE4expn3w0F",
        "outputId": "1284bfab-2cf5-4591-ecae-a8b082be357c"
      },
      "outputs": [],
      "source": [
        "# ※   tip \n",
        "# \n",
        "emp20['age'] [  emp20.telecom.isin( ['sk', 'kt'] )  ].unique()\n"
      ]
    },
    {
      "cell_type": "code",
      "execution_count": null,
      "metadata": {
        "id": "oZ8pemw03w3N"
      },
      "outputs": [],
      "source": [
        "▩ 예제8. 문자 함수 다루기1 ( 대문자로 변환하기 )\n",
        "\n",
        "            SQL                        vs                   파이썬\n",
        "           upper                                             문자열.upper()\n",
        "           lower                                             문자열.lower() \n",
        "           initcap                                           문자열.captialize()\n",
        "           substr                                            문자열.slice()\n",
        "           length                                            len(문자열)\n",
        "           ltrim                                             문자열.lstrip()\n",
        "           rtrim                                             문자열.rtrip() \n",
        "           replace                                           문자열.replace()  \n",
        "           instr                                             문자열.find()  \n",
        "\n",
        "* 타이타닉호의  승객 이름을  대문자로 출력하시오 !\n",
        "\n",
        "tit['Name'].str.upper()\n",
        "\n",
        "설명:  시리즈를 str(문자형) 으로 변환하고 파이썬의 문자형 함수인 upper()\n",
        "       를 사용해서 대문자로 출력하겠다. \n",
        "\n",
        "tit['Name'].upper()   <---  시리즈에는 upper() 함수가 없습니다. \n",
        "                           반드시 str 을 써서 문자형으로 변환하고 \n",
        "                            파이썬 문자를 쓰겠다고 해줘야합니다.\n",
        "\n",
        "tit['Name'].str.upper()     또는   tit.Name.str.upper() "
      ]
    },
    {
      "cell_type": "code",
      "execution_count": null,
      "metadata": {
        "colab": {
          "base_uri": "https://localhost:8080/"
        },
        "id": "4DTN8NRq3w6f",
        "outputId": "d71a9982-0f7f-4756-9890-ed6af30c282c"
      },
      "outputs": [],
      "source": [
        "#문제33.  emp20 에서 통신사를 출력하는데  통신사를 대문자로 출력하시오 ! \n",
        "\n",
        "#답:\n",
        "emp20=pd.read_csv(\"/content/drive/MyDrive/data100/emp20.csv\", encoding=\"euckr\")\n",
        "\n",
        "\n"
      ]
    },
    {
      "cell_type": "code",
      "execution_count": null,
      "metadata": {
        "colab": {
          "base_uri": "https://localhost:8080/",
          "height": 708
        },
        "id": "ADUSeZgZ3w9v",
        "outputId": "72eed4ef-51d3-41b1-aca1-707def943bf6"
      },
      "outputs": [],
      "source": [
        "#문제34.  위의 결과를 다시 출력하는데  이름과 통신사를 출력하고\n",
        "#         통신사를 대문자로 출력하시오 ! \n",
        "\n",
        "#답:\n",
        "\n",
        "emp20=pd.read_csv(\"/content/drive/MyDrive/data100/emp20.csv\", encoding=\"euckr\")\n",
        "\n",
        "\n",
        "#또는 \n",
        "\n",
        "#pd.concat( [emp20.ename,  emp20.telecom.str.upper() ], axis=1  ) \n",
        "\n",
        "#※ pd 의 concat(  [  시리즈1,  시리즈2 ],  axis = 1 ) \n",
        "\n",
        "# axis=1 은 양옆으로 붙이는 것,  axis=0 은 위아래로  붙입니다.\n"
      ]
    },
    {
      "cell_type": "code",
      "execution_count": null,
      "metadata": {
        "colab": {
          "base_uri": "https://localhost:8080/"
        },
        "id": "Oey_vPHV3xBJ",
        "outputId": "34e6f820-1db4-4662-b819-144711d89ed4"
      },
      "outputs": [],
      "source": [
        "#▩ 예제9. 문자 함수 다루기2( 소문자로 변환하기 )\n",
        "\n",
        "#* emp 데이터 프레임에서 이름을 출력하는데 소문자로 출력하시오 !\n",
        "\n",
        "emp.ename.str.lower()\n"
      ]
    },
    {
      "cell_type": "code",
      "execution_count": null,
      "metadata": {
        "colab": {
          "base_uri": "https://localhost:8080/",
          "height": 488
        },
        "id": "yjiVmspj3xEG",
        "outputId": "24d078ad-d9a6-472a-8d32-9a24c104a5c9"
      },
      "outputs": [],
      "source": [
        "#문제35.  이름과 월급을 출력하는데 이름을 소문자로 출력하시오 !\n",
        "\n",
        "#답:\n",
        "\n",
        "emp = pd.read_csv(\"/content/drive/MyDrive/data100/emp.csv\")\n",
        "\n"
      ]
    },
    {
      "cell_type": "code",
      "execution_count": null,
      "metadata": {
        "colab": {
          "base_uri": "https://localhost:8080/",
          "height": 81
        },
        "id": "mZlLi1fx3xH8",
        "outputId": "23b6b0de-2798-4c0c-a9fd-e2f470062fae"
      },
      "outputs": [],
      "source": [
        "# 문제36. 이름이 scott 인 사원의 이름과 월급을 출력하는데 이름을 소문자로 검색해도\n",
        "#  출력되게 하시오 !\n",
        "\n",
        "#답:\n",
        "emp = pd.read_csv(\"/content/drive/MyDrive/data100/emp.csv\")\n",
        "\n"
      ]
    },
    {
      "cell_type": "code",
      "execution_count": null,
      "metadata": {
        "colab": {
          "base_uri": "https://localhost:8080/"
        },
        "id": "kisLL9Xi3xLT",
        "outputId": "ee731be1-9bf1-4b71-a691-850b13990c5f"
      },
      "outputs": [],
      "source": [
        "#▩ 예제10. 문자 함수 다루기3 (첫번째 철자를 대문자로  변환하기 )\n",
        "\n",
        "emp.ename.str.capitalize() "
      ]
    },
    {
      "cell_type": "code",
      "execution_count": null,
      "metadata": {
        "colab": {
          "base_uri": "https://localhost:8080/",
          "height": 708
        },
        "id": "wrcw9dOl3xS3",
        "outputId": "de611c38-b46d-4a95-e079-f9198f571379"
      },
      "outputs": [],
      "source": [
        "#문제37. 이름과 통신사를 출력하는데 통신사를 출력할 때 첫번째 철자는\n",
        "#        대문자로 출력하고 나머지는 소문자로 출력하시오 ! \n",
        "\n",
        "#답: \n",
        "\n",
        "emp20=pd.read_csv(\"/content/drive/MyDrive/data100/emp20.csv\", encoding=\"euckr\")\n",
        "\n"
      ]
    },
    {
      "cell_type": "code",
      "execution_count": null,
      "metadata": {
        "id": "qkHeHfia6jqX"
      },
      "outputs": [],
      "source": [
        "▩ 예제11. 문자 함수 다루기4 ( 문자열 잘라내기 ) \n",
        "\n",
        "*  이름의 첫번째 철자만 출력하시오 !\n",
        "\n",
        "Pandas>  emp.ename.str.slice( start=0,  stop=1)\n",
        "\n",
        "   start= 0 은  0번째 자리부터 시작해서 stop=1 은  1 번째 자리 미만까지\n"
      ]
    },
    {
      "cell_type": "code",
      "execution_count": null,
      "metadata": {
        "colab": {
          "base_uri": "https://localhost:8080/"
        },
        "id": "7O7HX2MXvx28",
        "outputId": "5c491d0d-3f8a-41d4-d0c3-530f6a742d7f"
      },
      "outputs": [],
      "source": [
        "emp.ename.str.slice( start=0,  stop=1)"
      ]
    },
    {
      "cell_type": "code",
      "execution_count": null,
      "metadata": {
        "colab": {
          "base_uri": "https://localhost:8080/"
        },
        "id": "mqiVmLna6jta",
        "outputId": "efd51171-28fd-4b62-8007-fcdf76ce7898"
      },
      "outputs": [],
      "source": [
        "#문제38.  이름을 출력하는데 이름의 첫번째 철자 부터 두번째 철자까지만 출력하시오\n",
        "\n",
        "#답:\n",
        "\n",
        "emp = pd.read_csv(\"/content/drive/MyDrive/data100/emp.csv\")\n",
        "\n",
        "\n"
      ]
    },
    {
      "cell_type": "code",
      "execution_count": null,
      "metadata": {
        "colab": {
          "base_uri": "https://localhost:8080/",
          "height": 237
        },
        "id": "0JnvkpDW6jv7",
        "outputId": "10720cc6-195e-49c7-c195-7efd4e9ceff0"
      },
      "outputs": [],
      "source": [
        "# 문제39.   emp20 에서 성씨가 김씨인 학생들의 이름과 나이를 출력하시오 !\n",
        "\n",
        "#답: \n",
        "\n",
        "emp20=pd.read_csv(\"/content/drive/MyDrive/data100/emp20.csv\", encoding=\"euckr\")\n",
        "\n"
      ]
    },
    {
      "cell_type": "code",
      "execution_count": null,
      "metadata": {
        "colab": {
          "base_uri": "https://localhost:8080/",
          "height": 363
        },
        "id": "39vaEcoh6jy_",
        "outputId": "a631a148-f65c-4f54-b2f7-66289772da6a"
      },
      "outputs": [],
      "source": [
        "# 문제40.  emp20 테이블에서 서울에서 거주하지 않는 학생들의 이름과 나이와\n",
        "#          주소를 출력하는데 나이가 높은 학생부터 출력되게 하시오 !\n",
        "\n",
        "#답:\n",
        "emp20=pd.read_csv(\"/content/drive/MyDrive/data100/emp20.csv\", encoding=\"euckr\")\n",
        "\n",
        "\n"
      ]
    },
    {
      "cell_type": "code",
      "execution_count": null,
      "metadata": {
        "id": "jysO99Gh724_"
      },
      "outputs": [],
      "source": [
        "▩ 예제12. 문자 함수 다루기5 ( len ) \n",
        "\n",
        "  len 함수는  파이썬에 내장되어있는 문자 함수이고 문자열의 철자의 갯수를 세는 함수 \n",
        "\n",
        "예:     a =  'scott'\n",
        "        len(a)  # 5\n",
        "\n",
        "* 이름과  이름의 철자의 갯수를 출력하시오 !\n",
        "\n",
        "Pandas> pd.concat( [ emp.ename,   emp.ename.str.len() ] , axis=1   )\n",
        "\n",
        "또는\n",
        "\n",
        "Pandas>  emp['ename_len'] =  emp.ename.str.len()\n",
        "         emp[ ['ename', 'ename_len'] ]"
      ]
    },
    {
      "cell_type": "code",
      "execution_count": null,
      "metadata": {
        "colab": {
          "base_uri": "https://localhost:8080/",
          "height": 488
        },
        "id": "EkU5siyB_zvk",
        "outputId": "846b7f59-ad79-48b3-8095-de8b904d9ddc"
      },
      "outputs": [],
      "source": [
        "emp['ename_len'] =  emp.ename.str.len()\n",
        "emp[ ['ename', 'ename_len'] ]"
      ]
    },
    {
      "cell_type": "code",
      "execution_count": null,
      "metadata": {
        "colab": {
          "base_uri": "https://localhost:8080/",
          "height": 488
        },
        "id": "hhfHn18K728c",
        "outputId": "d5b3ae0c-2fbc-4930-fba7-bbd4c13cd06d"
      },
      "outputs": [],
      "source": [
        "# 문제41.  이름과 이름의 철자의 갯수를 출력하는데 이름의 철자의 길이가 가장 긴 사원부터 출력하시오 !\n",
        "\n",
        "#답:\n",
        "emp = pd.read_csv(\"/content/drive/MyDrive/data100/emp.csv\")\n",
        "\n",
        "\n"
      ]
    },
    {
      "cell_type": "code",
      "execution_count": null,
      "metadata": {
        "colab": {
          "base_uri": "https://localhost:8080/",
          "height": 423
        },
        "id": "f0J4pqecBsWO",
        "outputId": "87eb630e-5566-4865-d2a5-df7a43c696d8"
      },
      "outputs": [],
      "source": [
        "tit"
      ]
    },
    {
      "cell_type": "code",
      "execution_count": null,
      "metadata": {
        "colab": {
          "base_uri": "https://localhost:8080/",
          "height": 423
        },
        "id": "SCsOIwqu72_Z",
        "outputId": "c9716df5-687b-40a8-bd66-cddbde55e57e"
      },
      "outputs": [],
      "source": [
        "\n",
        "#문제42. 타이타닉 데이터 프레임(tit)  에서  승객이름과 이름의 철자의 길이를\n",
        "#        출력하는데 이름의 철자의 길이가 긴 승객부터 출력하시오 !\n",
        "\n",
        "#답:\n",
        "tit = pd.read_csv(\"/content/drive/MyDrive/data100/train.csv\")\n"
      ]
    },
    {
      "cell_type": "code",
      "execution_count": null,
      "metadata": {
        "id": "L4gs3Lgi73CH"
      },
      "outputs": [],
      "source": [
        "▩ 예제13. 문자 함수 다루기6 ( find ) \n",
        "\n",
        " find 함수는  문자열에서 특정 철자의 위치 인덱스 번호를 출력하는 함수 \n",
        "\n",
        "예:   a ='smith'\n",
        "      a.find('m')    #    1  \n",
        "\n",
        "find 함수를 통해서 문자열에 없는 철자를 찾으려고 시도하면 -1을 출력합니다.\n"
      ]
    },
    {
      "cell_type": "code",
      "execution_count": null,
      "metadata": {
        "colab": {
          "base_uri": "https://localhost:8080/"
        },
        "id": "DRWfLtscCKW7",
        "outputId": "f0f12456-3d29-44a3-be15-280385cf2593"
      },
      "outputs": [],
      "source": [
        "a ='smith'\n",
        "a.find('k') "
      ]
    },
    {
      "cell_type": "code",
      "execution_count": null,
      "metadata": {
        "colab": {
          "base_uri": "https://localhost:8080/"
        },
        "id": "kgS-SqqXFc57",
        "outputId": "bebaec0c-270e-46a5-8afd-f339a5d0a898"
      },
      "outputs": [],
      "source": [
        "emp.ename.str.find('M')"
      ]
    },
    {
      "cell_type": "code",
      "execution_count": null,
      "metadata": {
        "colab": {
          "base_uri": "https://localhost:8080/",
          "height": 206
        },
        "id": "3wVr3vUY73Fb",
        "outputId": "7bad2404-a252-4e87-e42b-fcb9342bb31f"
      },
      "outputs": [],
      "source": [
        "#문제43.  emp 데이터 프레임에서 이름에 M 자가 포함된 사원들의 이름과 월급을\n",
        "#         출력하세요\n",
        "\n",
        "#답: \n",
        "\n",
        "emp = pd.read_csv(\"/content/drive/MyDrive/data100/emp.csv\")\n"
      ]
    },
    {
      "cell_type": "code",
      "execution_count": null,
      "metadata": {
        "colab": {
          "base_uri": "https://localhost:8080/",
          "height": 331
        },
        "id": "JQHf7ZX473Hv",
        "outputId": "0081e2ac-ef4e-47e6-8da6-43b4a700c615"
      },
      "outputs": [],
      "source": [
        "# 문제44. emp 데이터 프레임에서 이름에 M 자가 포함되지 않은 사원들의 이름과 월급을\n",
        "#         출력하세요\n",
        "\n",
        "# 답:\n",
        "\n",
        "emp = pd.read_csv(\"/content/drive/MyDrive/data100/emp.csv\")\n",
        "\n"
      ]
    },
    {
      "cell_type": "code",
      "execution_count": null,
      "metadata": {
        "id": "EuY0VbUh73K2"
      },
      "outputs": [],
      "source": [
        "▩ 예제14. 문자 함수 다루기7 ( replace ) \n",
        "\n",
        " 파이썬 내장함수인 replace 는 문자열에서 특정 철자를 다른 철자로\n",
        " 변경하는 함수 입니다.\n",
        "\n",
        "예:  a = 'scott' \n",
        "     a.replace('s', 'k')   # kcott "
      ]
    },
    {
      "cell_type": "code",
      "execution_count": null,
      "metadata": {
        "colab": {
          "base_uri": "https://localhost:8080/",
          "height": 488
        },
        "id": "6ndGh6iu73Nx",
        "outputId": "8ee35d05-e9ff-4b1c-cfb0-335612cb281d"
      },
      "outputs": [],
      "source": [
        "\n",
        "# 문제45. 이름과 월급을 출력하는데  월급을 출력할 때 숫자 0 을  별표(*) 로 출력하시오\n",
        "\n",
        "# 답:\n",
        "\n",
        "emp = pd.read_csv(\"/content/drive/MyDrive/data500/emp.csv\")\n",
        "                     \n"
      ]
    },
    {
      "cell_type": "code",
      "execution_count": null,
      "metadata": {
        "colab": {
          "base_uri": "https://localhost:8080/",
          "height": 488
        },
        "id": "ih2GJwi273Qy",
        "outputId": "c37dd517-8979-47fb-e1d6-0ef4c744d931"
      },
      "outputs": [],
      "source": [
        "#문제46.  위의 경우는 * 이  0 이라는 것을 알면 보안이 뚫리므로 \n",
        "#         이번에는 월급을 출력할 때 숫자 0~ 3까지의 숫자를 * 로 출력하시오\n",
        "\n",
        "# regular   expression (정규 표현식)  함수중에 regexp_replace 라는 함수가\n",
        "#  있는데  replace 함수의 더 확장된 함수 입니다. \n",
        "\n",
        "# 답:\n",
        "emp = pd.read_csv(\"/content/drive/MyDrive/data100/emp.csv\")\n",
        "\n",
        "import  re # 데이터 전처리 전문 모듈\n",
        "\n",
        "\n",
        "# 파이썬 :   re.sub( '[0-3]', '*',  sal )  "
      ]
    },
    {
      "cell_type": "code",
      "execution_count": null,
      "metadata": {
        "id": "h9dOEVhV73UY"
      },
      "outputs": [],
      "source": [
        "\n",
        "▩ 예제15. 문자 함수 다루기8 ( strip ) \n",
        "\n",
        "strip 함수는 문자열에 존재하는 특정 철자나 특수문자 또는 공백문자를\n",
        "잘라내는 함수 \n",
        "\n",
        "함수                  설명 \n",
        "lstrip()               문자열에서 존재하는 왼쪽 공백을 제거\n",
        "rstrip()               문자열에서 존재하는 오른쪽 공백을 제거        \n",
        "strip()                문자열에서 존재하는 양쪽 공백을 제거 \n",
        "\n",
        "예제:    text7 =  '          A  story   is   2023            ' \n",
        "         print(text7)\n",
        "         print( text7.lstrip()   ) \n",
        "         print( text7.rstrip()   )\n",
        "         print( text7.strip()   )\n"
      ]
    },
    {
      "cell_type": "code",
      "execution_count": null,
      "metadata": {
        "colab": {
          "base_uri": "https://localhost:8080/"
        },
        "id": "0UoK831FGvOi",
        "outputId": "a8934582-c4e4-4d2b-da01-639341c797c9"
      },
      "outputs": [],
      "source": [
        "text7 =  '          A  story   is   2023            ' \n",
        "print(text7)\n",
        "print( text7.lstrip()   ) \n",
        "print( text7.rstrip()   )\n",
        "print( text7.strip()   )"
      ]
    },
    {
      "cell_type": "code",
      "execution_count": null,
      "metadata": {
        "colab": {
          "base_uri": "https://localhost:8080/",
          "height": 81
        },
        "id": "66Z9ZANIHC3n",
        "outputId": "7e43431f-7add-46e5-9963-b99ad01b7ffd"
      },
      "outputs": [],
      "source": [
        "# 문제47.  emp.csv 파일에 JACK 데이터를 입력하는데 양쪽에 공백을 입력해서 넣고\n",
        "#  이름이 jack 인 사원의 이름과 월급을 출력하세요 !\n",
        "\n",
        "# 답:\n",
        "emp2 = pd.read_csv(\"/content/drive/MyDrive/data100/emp2.csv\")\n",
        "\n"
      ]
    },
    {
      "cell_type": "code",
      "execution_count": null,
      "metadata": {
        "id": "0UnDZiczHDAe"
      },
      "outputs": [],
      "source": [
        "▩ 예제16.   최대값 출력하기 (max) \n",
        "  \n",
        "        SQL               vs                  판다스 \n",
        "       max                                      emp['sal'].max()\n",
        "       min                                      emp['sal'].min()\n",
        "       sum                                      emp['sal'].sum()\n",
        "       avg                                      emp['sal'].mean()\n",
        "       count                                    emp['sal'].count() \n",
        "\n",
        "예제.  emp 데이터 프레임에서 최대 월급을 출력하시오 !\n",
        "\n",
        "emp['sal'].max()"
      ]
    },
    {
      "cell_type": "code",
      "execution_count": null,
      "metadata": {
        "colab": {
          "base_uri": "https://localhost:8080/"
        },
        "id": "d56TrVRcJBHA",
        "outputId": "6b1713f5-cf05-43d1-8f6d-87b90c900f5a"
      },
      "outputs": [],
      "source": [
        "emp = pd.read_csv(\"/content/drive/MyDrive/data100/emp.csv\")\n",
        "\n",
        "emp['sal'].max()"
      ]
    },
    {
      "cell_type": "code",
      "execution_count": null,
      "metadata": {
        "colab": {
          "base_uri": "https://localhost:8080/"
        },
        "id": "cJXClnzqHDD8",
        "outputId": "8f9fbd0b-e2c5-478e-9f11-3d0b591e651d"
      },
      "outputs": [],
      "source": [
        "# 문제48.   emp20 에서 최대 나이를 출력하시오 !\n",
        "\n",
        "# 답:\n",
        "emp20=pd.read_csv(\"/content/drive/MyDrive/data100/emp20.csv\", encoding=\"euckr\")\n",
        "\n"
      ]
    },
    {
      "cell_type": "code",
      "execution_count": null,
      "metadata": {
        "colab": {
          "base_uri": "https://localhost:8080/"
        },
        "id": "UlFD4U3jHDGe",
        "outputId": "7a7fd69b-1d07-40fb-8f65-bbb2ffa9731e"
      },
      "outputs": [],
      "source": [
        "#문제49.  부서번호가 20번인 사원들의 최대월급을 출력하시오\n",
        "\n",
        "# 답:\n",
        "\n",
        "emp=pd.read_csv('/content/drive/MyDrive/data100/emp.csv')\n",
        "\n",
        "\n"
      ]
    },
    {
      "cell_type": "code",
      "execution_count": null,
      "metadata": {
        "colab": {
          "base_uri": "https://localhost:8080/"
        },
        "id": "tf_Afd8JHDMH",
        "outputId": "dacca9b7-cdc5-4d5f-a742-cb717841285b"
      },
      "outputs": [],
      "source": [
        "# 문제50. 직업이 SALESMAN 인 사원들의 최대월급을  출력하시오 ! \n",
        "\n",
        "# 답:\n",
        "emp=pd.read_csv('/content/drive/MyDrive/data100/emp.csv')\n",
        "\n",
        "\n"
      ]
    },
    {
      "cell_type": "code",
      "execution_count": null,
      "metadata": {
        "colab": {
          "base_uri": "https://localhost:8080/",
          "height": 206
        },
        "id": "h05I8ikBHDO4",
        "outputId": "f008b98e-38aa-4efb-a435-08796eb7e253"
      },
      "outputs": [],
      "source": [
        "# 문제51. 직업과 직업별 최대월급을 출력하세요\n",
        "\n",
        "# 답:\n",
        "\n",
        "import pandas as pd\n",
        "\n",
        "emp = pd.read_csv(\"/content/drive/MyDrive/data100/emp.csv\")\n",
        "\n"
      ]
    },
    {
      "cell_type": "code",
      "execution_count": null,
      "metadata": {
        "id": "y0fLk9-gHDRx"
      },
      "outputs": [],
      "source": [
        "설명:  \n",
        "groupby 와 reset_index() 는 서로 짝꿍입니다.\n",
        "groupby 만 사용하면 결과가 Series(컬럼) 로 나오고 \n",
        "reset_index() 를 뒤에 붙여줘야  data Frame(테이블) 으로 \n",
        "출력됩니다.\n"
      ]
    },
    {
      "cell_type": "code",
      "execution_count": null,
      "metadata": {
        "colab": {
          "base_uri": "https://localhost:8080/",
          "height": 143
        },
        "id": "lWTNd-AfHDUl",
        "outputId": "b97da51f-28a6-4782-f6b0-587272cd67f0"
      },
      "outputs": [],
      "source": [
        "#문제52. tit 에서 Pclass 를 출력하고 Pclass 별 최대운임을 출력하시오 !\n",
        "#       ( 운임은 Fare ) \n",
        "\n",
        "# 답:\n",
        "\n",
        "tit = pd.read_csv(\"/content/drive/MyDrive/data100/train.csv\")\n",
        "\n"
      ]
    },
    {
      "cell_type": "code",
      "execution_count": null,
      "metadata": {
        "colab": {
          "base_uri": "https://localhost:8080/",
          "height": 143
        },
        "id": "LGIWZeiHHDXR",
        "outputId": "79edb644-5e81-45ff-c392-37c998e25ab8"
      },
      "outputs": [],
      "source": [
        "# 문제53. emp20 테이블에서 통신사, 통신사별 최대나이를 출력하는데\n",
        "#        최대나이가 높은 것부터 출력하시오 !\n",
        "\n",
        "# 답:\n",
        "\n",
        "emp20 = pd.read_csv(\"/content/drive/MyDrive/data100/emp20.csv\", encoding=\"euckr\")\n",
        "\n"
      ]
    },
    {
      "cell_type": "code",
      "execution_count": null,
      "metadata": {
        "colab": {
          "base_uri": "https://localhost:8080/",
          "height": 143
        },
        "id": "HJsW_6fKHDaI",
        "outputId": "9861688d-b8f0-4220-9848-fc211bbbaa28"
      },
      "outputs": [],
      "source": [
        "# 문제54.  문제53번의 컬럼명을 변경하시오 !\n",
        "\n",
        "# 답:\n",
        "emp20 = pd.read_csv(\"/content/drive/MyDrive/data100/emp20.csv\", encoding=\"euckr\")\n",
        "\n"
      ]
    },
    {
      "cell_type": "code",
      "execution_count": null,
      "metadata": {
        "colab": {
          "base_uri": "https://localhost:8080/",
          "height": 206
        },
        "id": "f1daw5cLHDc-",
        "outputId": "da7e232d-92c4-48ad-fcd6-8d56b941c38c"
      },
      "outputs": [],
      "source": [
        "\n",
        "# ▩ 예제17.   최소값 출력하기 (min) \n",
        "\n",
        "# *  직업, 직업별 최소월급을 출력하시오 !\n",
        "\n",
        "# 답:\n",
        "emp = pd.read_csv(\"/content/drive/MyDrive/data100/emp.csv\")\n",
        "\n"
      ]
    },
    {
      "cell_type": "code",
      "execution_count": null,
      "metadata": {
        "colab": {
          "base_uri": "https://localhost:8080/",
          "height": 206
        },
        "id": "MRbGddttHDf3",
        "outputId": "17f4f4f2-b4a4-4106-9ea0-9177dd6a32fd"
      },
      "outputs": [],
      "source": [
        "\n",
        "# 문제55. 직업, 직업별 최소월급을 출력하는데  최소 월급이 낮은것부터 출력하시오\n",
        "\n",
        "# 답:\n",
        "emp = pd.read_csv(\"/content/drive/MyDrive/data100/emp.csv\")\n",
        "\n"
      ]
    },
    {
      "cell_type": "code",
      "execution_count": null,
      "metadata": {
        "colab": {
          "base_uri": "https://localhost:8080/",
          "height": 175
        },
        "id": "N4CU2cTur8RU",
        "outputId": "e391025c-cef7-4467-cb9c-dff4b280582c"
      },
      "outputs": [],
      "source": [
        "\n",
        "# 문제56. 직업, 직업별 최소월급을 출력하는데 직업별 최소월급이\n",
        "#         1200 이상인것만 출력하시오\n",
        "\n",
        "\n",
        "#답: \n",
        "\n",
        "emp = pd.read_csv(\"/content/drive/MyDrive/data100/emp.csv\")\n",
        "\n"
      ]
    },
    {
      "cell_type": "code",
      "execution_count": null,
      "metadata": {
        "colab": {
          "base_uri": "https://localhost:8080/",
          "height": 143
        },
        "id": "og05beigr8Ua",
        "outputId": "cea199f5-63e1-42cf-a224-25f5dff919c2"
      },
      "outputs": [],
      "source": [
        "# ▩ 예제18.   토탈값  출력하기 (sum) \n",
        "\n",
        "# 부서번호와 부서번호별 토탈월급을 출력하세요 \n",
        "\n",
        "emp.groupby('deptno')['sal'].sum().reset_index() \n"
      ]
    },
    {
      "cell_type": "code",
      "execution_count": null,
      "metadata": {
        "colab": {
          "base_uri": "https://localhost:8080/",
          "height": 206
        },
        "id": "DQPdTqfQr8Xf",
        "outputId": "56b0595c-167e-45a9-f82d-c93d5fd61c9a"
      },
      "outputs": [],
      "source": [
        "\n",
        "# 문제57. 직업과 직업별 토탈월급을 출력하는데 직업별 토탈월급이\n",
        "# 높은 사원부터 출력하세요\n",
        "\n",
        "\n",
        "#답 :\n",
        "\n",
        "emp = pd.read_csv(\"/content/drive/MyDrive/data100/emp.csv\")\n",
        "\n",
        "\n"
      ]
    },
    {
      "cell_type": "code",
      "execution_count": null,
      "metadata": {
        "colab": {
          "base_uri": "https://localhost:8080/",
          "height": 175
        },
        "id": "YrWLWgMjr8ag",
        "outputId": "18836fe9-fc2e-483e-d6dc-153bdd1053fa"
      },
      "outputs": [],
      "source": [
        "\n",
        "# 문제58. 직업과 직업별 토탈월급을 출력하는데 직업이 SALESMAN은\n",
        "# 제외하고 출력하고 직업별 토탈월급이 높은 사원부터 출력하세요\n",
        "\n",
        "\n",
        "#답: \n",
        "emp = pd.read_csv(\"/content/drive/MyDrive/data100/emp.csv\")\n",
        "\n"
      ]
    },
    {
      "cell_type": "code",
      "execution_count": null,
      "metadata": {
        "colab": {
          "base_uri": "https://localhost:8080/",
          "height": 143
        },
        "id": "aGh4ENkar8dk",
        "outputId": "fd986530-5044-473c-94e4-40e5af17620c"
      },
      "outputs": [],
      "source": [
        "# 문제59. 직업과 직업별 토탈월급을 출력하는데 직업이 SALESMAN은\n",
        "# 제외하고 출력하고 직업별 토탈월급이 5000 이상인것만 출력하고 \n",
        "# 직업별 토탈월급이 높은 사원부터 출력하세요\n",
        "\n",
        "# SQL>    select   job  as   직업,  sum(sal)    as  토탈월급\n",
        "#                  from    emp\n",
        "#                  where     job   != 'SALESMAN' \n",
        "#                  group    by    job \n",
        "#                  having   sum(sal)  >=  5000\n",
        "#                  order   by    토탈월급    desc; \n",
        "\n",
        "#답 :\n",
        "emp = pd.read_csv(\"/content/drive/MyDrive/data100/emp.csv\")\n",
        "\n"
      ]
    },
    {
      "cell_type": "code",
      "execution_count": null,
      "metadata": {
        "colab": {
          "base_uri": "https://localhost:8080/"
        },
        "id": "etJkY_WNr8gi",
        "outputId": "eb72cce7-4349-4cad-dbc8-0e608834f1ff"
      },
      "outputs": [],
      "source": [
        "\n",
        "# ▩ 예제19.   평균값  출력하기 (mean) \n",
        "\n",
        "#  사원 테이블의 월급의 평균값을 출력하시오 !\n",
        "\n",
        "emp['sal'].mean()"
      ]
    },
    {
      "cell_type": "code",
      "execution_count": null,
      "metadata": {
        "colab": {
          "base_uri": "https://localhost:8080/"
        },
        "id": "m1hSN12Ur8l9",
        "outputId": "350686c8-dee5-4b14-d06d-d5b2acb3df05"
      },
      "outputs": [],
      "source": [
        "\n",
        "# 문제60.  입사일에서  년도만 추출하시오 !\n",
        "\n",
        "import pandas as pd\n",
        "\n",
        "emp = pd.read_csv(\"/content/drive/MyDrive/data100/emp.csv\")\n",
        "\n"
      ]
    },
    {
      "cell_type": "code",
      "execution_count": null,
      "metadata": {
        "id": "0L-kaClfr8oQ"
      },
      "outputs": [],
      "source": [
        "설명:\n",
        "\n",
        "emp.hiredate.dt.year  # 입사일에서 년도만 추출 \n",
        "\n",
        "※    emp.hiredate.dt.year   :  년도\n",
        "      emp.hiredate.dt.month   :  달\n",
        "      emp.hiredate.dt.day  :   일 "
      ]
    },
    {
      "cell_type": "code",
      "execution_count": null,
      "metadata": {
        "colab": {
          "base_uri": "https://localhost:8080/"
        },
        "id": "hOTlG2tHQ7hd",
        "outputId": "630f52b7-fc9e-4ede-a153-3b4e291f4595"
      },
      "outputs": [],
      "source": [
        "emp.hiredate.dt.day"
      ]
    },
    {
      "cell_type": "code",
      "execution_count": null,
      "metadata": {
        "colab": {
          "base_uri": "https://localhost:8080/",
          "height": 488
        },
        "id": "Weum6rl5r8qO",
        "outputId": "de9bf375-753d-4283-caa1-cb6bcf521fee"
      },
      "outputs": [],
      "source": [
        "\n",
        "# 문제61.  사원 데이터 프레임에 컬럼을 하나 추가하는데  hire_year 로\n",
        "#         추가하고  입사한 년도가  들어가게 하시오 !\n",
        "\n",
        "emp = pd.read_csv(\"/content/drive/MyDrive/data100/emp.csv\")\n",
        "\n"
      ]
    },
    {
      "cell_type": "code",
      "execution_count": null,
      "metadata": {
        "colab": {
          "base_uri": "https://localhost:8080/",
          "height": 174
        },
        "id": "bMMS6Uanr8sg",
        "outputId": "0903324a-abd1-4bb6-d3fa-1539b73dc217"
      },
      "outputs": [],
      "source": [
        "\n",
        "# 문제62.   년도(hire_year) ,  년도별 평균월급을 출력하시오 !\n",
        "\n",
        "emp = pd.read_csv(\"/content/drive/MyDrive/data100/emp.csv\")\n",
        "\n"
      ]
    },
    {
      "cell_type": "code",
      "execution_count": null,
      "metadata": {
        "colab": {
          "base_uri": "https://localhost:8080/",
          "height": 174
        },
        "id": "bnUi3xrtr8v0",
        "outputId": "3ab5ee36-9c97-4d5c-ab8d-4c663ed9cfe0"
      },
      "outputs": [],
      "source": [
        "\n",
        "# 문제63.  입사한 년도, 입사한 년도별 평균월급을 출력하는데\n",
        "# 입사한 년도별 평균월급이 높은것 부터 출력하시오.\n",
        "\n",
        "emp = pd.read_csv(\"/content/drive/MyDrive/data100/emp.csv\")\n"
      ]
    },
    {
      "cell_type": "code",
      "execution_count": null,
      "metadata": {
        "id": "6AwDzaAhr8zN"
      },
      "outputs": [],
      "source": [
        "\n",
        "▩ 예제20.  건수 출력하기 ( count )\n",
        "\n",
        "    SQL              vs                  판다스 \n",
        "    max                                emp['sal'].max()\n",
        "    min                                emp['sal'].min()\n",
        "    sum                                emp['sal'].sum()\n",
        "    avg                                emp['sal'].mean()\n",
        "    count                              emp['sal'].count() \n"
      ]
    },
    {
      "cell_type": "code",
      "execution_count": null,
      "metadata": {
        "colab": {
          "base_uri": "https://localhost:8080/",
          "height": 488
        },
        "id": "KrSt1qgoSzYZ",
        "outputId": "4b9467cc-180f-4184-8aeb-78c3a72fc1c5"
      },
      "outputs": [],
      "source": [
        "emp"
      ]
    },
    {
      "cell_type": "code",
      "execution_count": null,
      "metadata": {
        "colab": {
          "base_uri": "https://localhost:8080/",
          "height": 206
        },
        "id": "s4-KWPtyw0ek",
        "outputId": "3209a421-5964-4dd2-8f12-d5ff512c181b"
      },
      "outputs": [],
      "source": [
        "# 직업과 직업별 인원수를 출력하세요\n",
        "\n",
        "emp.groupby('job')['empno'].count().reset_index()"
      ]
    },
    {
      "cell_type": "code",
      "execution_count": null,
      "metadata": {
        "colab": {
          "base_uri": "https://localhost:8080/",
          "height": 143
        },
        "id": "YnZ1SK34w0hg",
        "outputId": "56b9e52c-c811-4949-9fd4-ffc7ebed7e1b"
      },
      "outputs": [],
      "source": [
        "# 문제64. 직업, 직업별 인원수를 출력하는데 직업별 인원수가\n",
        "#  3명 이상인것만 출력하세요\n",
        "\n",
        "emp = pd.read_csv(\"/content/drive/MyDrive/data100/emp.csv\")\n",
        "\n"
      ]
    },
    {
      "cell_type": "code",
      "execution_count": null,
      "metadata": {
        "colab": {
          "base_uri": "https://localhost:8080/",
          "height": 331
        },
        "id": "baYRe0gCw0lx",
        "outputId": "d60dd436-8a3f-4b38-bcc1-d5b016a5a7ac"
      },
      "outputs": [],
      "source": [
        "# ▩ 예제21.  컬럼 두개로 group by 하기 \n",
        "\n",
        "# 부서번호별 직업별 토탈월급을 출력하세요\n",
        "\n",
        "emp.groupby(['deptno', 'job'])['sal'].sum().reset_index() \n"
      ]
    },
    {
      "cell_type": "code",
      "execution_count": null,
      "metadata": {
        "colab": {
          "base_uri": "https://localhost:8080/"
        },
        "id": "mV6NuCotw0pE",
        "outputId": "9a1dd8b9-0073-443d-a646-f4c6c14c2faf"
      },
      "outputs": [],
      "source": [
        "# 문제65. emp20 에서 주소를 출력하는데  앞에 3글자만 출력하시오\n",
        "\n",
        "emp20=pd.read_csv(\"/content/drive/MyDrive/data100/emp20.csv\", encoding=\"euckr\")\n",
        "\n"
      ]
    },
    {
      "cell_type": "code",
      "execution_count": null,
      "metadata": {
        "colab": {
          "base_uri": "https://localhost:8080/",
          "height": 707
        },
        "id": "v2OfDgHiylGn",
        "outputId": "aade6aea-08ca-4767-d860-6f5cf7663b3c"
      },
      "outputs": [],
      "source": [
        "\n",
        "# 문제66.  위의 결과를 담는 컬럼을 address2 라는 이름으로 생성하시오 !\n",
        "\n",
        "emp20=pd.read_csv(\"/content/drive/MyDrive/data100/emp20.csv\", encoding=\"euckr\")\n",
        "\n"
      ]
    },
    {
      "cell_type": "code",
      "execution_count": null,
      "metadata": {
        "colab": {
          "base_uri": "https://localhost:8080/",
          "height": 143
        },
        "id": "aC7c0kO5ylKR",
        "outputId": "776cc343-6945-444a-f45b-4fb956b58fb3"
      },
      "outputs": [],
      "source": [
        "\n",
        "# 문제67.   address2 를 출력하고 address2 별 인원수를 출력하시오 !\n",
        "\n",
        "emp20=pd.read_csv(\"/content/drive/MyDrive/data100/emp20.csv\", encoding=\"euckr\")\n"
      ]
    },
    {
      "cell_type": "code",
      "execution_count": null,
      "metadata": {
        "colab": {
          "base_uri": "https://localhost:8080/",
          "height": 237
        },
        "id": "cg4MWVjzylOZ",
        "outputId": "4b90a35c-2f78-42b4-9c83-46f6af9c2e4f"
      },
      "outputs": [],
      "source": [
        "\n",
        "# 문제68.  통신사,address2 , 통신사별 address2 별 인원수를 출력하시오\n",
        "\n",
        "emp20=pd.read_csv(\"/content/drive/MyDrive/data100/emp20.csv\", encoding=\"euckr\")\n",
        "\n"
      ]
    },
    {
      "cell_type": "code",
      "execution_count": null,
      "metadata": {
        "colab": {
          "base_uri": "https://localhost:8080/",
          "height": 488
        },
        "id": "JBVeXM6PylRM",
        "outputId": "33fbdd42-3d46-485a-a3be-eb1366bde6de"
      },
      "outputs": [],
      "source": [
        "\n",
        "# ▩ 예제22.  순위를 출력하는 rank 함수 배우기 \n",
        "\n",
        "# 이름과 월급과 월급에 대한 순위를 출력하세요\n",
        "\n",
        "emp['순위'] = emp['sal'].rank(ascending=False).astype(int)\n",
        "emp[['ename', 'sal', '순위']].sort_values( by ='순위', ascending=True ) "
      ]
    },
    {
      "cell_type": "code",
      "execution_count": null,
      "metadata": {
        "colab": {
          "base_uri": "https://localhost:8080/",
          "height": 707
        },
        "id": "iXwStJzmylTT",
        "outputId": "e440092b-aa0d-4b3f-9226-72a39b99aca3"
      },
      "outputs": [],
      "source": [
        "# 문제69. 이름,  나이,  나이에 대한 순위를 출력하시오 !\n",
        "\n",
        "emp20=pd.read_csv(\"/content/drive/MyDrive/data100/emp20.csv\", encoding=\"euckr\")\n",
        "\n"
      ]
    },
    {
      "cell_type": "code",
      "execution_count": null,
      "metadata": {
        "colab": {
          "base_uri": "https://localhost:8080/",
          "height": 174
        },
        "id": "BZRQz4JdylV-",
        "outputId": "c2fb0bb6-7a89-4a7d-9cbd-346c203fdd9f"
      },
      "outputs": [],
      "source": [
        "# 문제70. 직업이 SALESMAN인 사원들의 이름과 월급과 직업과\n",
        "#         월급에 대한 순위를 출력하세요 \n",
        "\n",
        "emp = pd.read_csv(\"/content/drive/MyDrive/data100/emp.csv\")\n"
      ]
    },
    {
      "cell_type": "code",
      "execution_count": null,
      "metadata": {
        "colab": {
          "base_uri": "https://localhost:8080/",
          "height": 488
        },
        "id": "FWZHUbl2ylYh",
        "outputId": "9fd1027f-5b1c-4e3c-bb01-895c1dc4bf2c"
      },
      "outputs": [],
      "source": [
        "# 문제71.  부서번호, 이름, 월급, 월급에 대한 순위를 출력하는데\n",
        "# 순위가 부서번호별로 각각 월급이 높은 순서데로 순위가 부여되게\n",
        "# 하세요.\n",
        "\n",
        "import pandas as pd \n",
        "\n",
        "emp = pd.read_csv(\"/content/drive/MyDrive/data100/emp.csv\")\n",
        "\n"
      ]
    },
    {
      "cell_type": "code",
      "execution_count": null,
      "metadata": {
        "colab": {
          "base_uri": "https://localhost:8080/",
          "height": 708
        },
        "id": "2GUnRczMylcA",
        "outputId": "3bfb7eac-6fbd-4c75-d66f-5bf9d55aaaf1"
      },
      "outputs": [],
      "source": [
        "#문제72.  우리반 테이블에서 통신사, 이름, 나이, 순위를 출력하는데\n",
        "#         순위가 통신사별로 각각 나이가 높은 순서대로 순위를 부여하시오\n",
        "\n",
        "\n",
        "emp20=pd.read_csv(\"/content/drive/MyDrive/data100/emp20.csv\", encoding=\"euckr\")\n",
        "\n"
      ]
    },
    {
      "cell_type": "code",
      "execution_count": null,
      "metadata": {
        "colab": {
          "base_uri": "https://localhost:8080/",
          "height": 488
        },
        "id": "fSYhakXGylfK",
        "outputId": "011a9138-5099-4b87-fad1-9dfb875e2a6f"
      },
      "outputs": [],
      "source": [
        "\n",
        "# ▩ 예제23.  등급을 나누는  함수(qcut 함수)\n",
        "\n",
        "emp = pd.read_csv(\"/content/drive/MyDrive/data100/emp.csv\")\n",
        "\n"
      ]
    },
    {
      "cell_type": "code",
      "execution_count": null,
      "metadata": {
        "colab": {
          "base_uri": "https://localhost:8080/",
          "height": 708
        },
        "id": "yUnF4IjYyljw",
        "outputId": "d9429761-ea46-4a51-c4ed-0a5d52094577"
      },
      "outputs": [],
      "source": [
        "# 문제73.   이름과 나이와  등급을 출력하는데  나이를 5등급으로 나눠서\n",
        "#           등급을 출력하시오 !\n",
        "\n",
        "emp20=pd.read_csv(\"/content/drive/MyDrive/data100/emp20.csv\", encoding=\"euckr\")\n",
        "\n"
      ]
    },
    {
      "cell_type": "code",
      "execution_count": null,
      "metadata": {
        "colab": {
          "base_uri": "https://localhost:8080/"
        },
        "id": "ildb1uF6ylom",
        "outputId": "d179f6ac-5f33-49f3-a8ed-4917aedabb3f"
      },
      "outputs": [],
      "source": [
        "\n",
        "# 문제74.  타이타닉의 Age 의 null 값을  나이의 평균값으로 채워넣으시오 !\n",
        "\n",
        "tit = pd.read_csv('/content/drive/MyDrive/data100/train.csv')\n",
        "\n"
      ]
    },
    {
      "cell_type": "code",
      "execution_count": null,
      "metadata": {
        "colab": {
          "base_uri": "https://localhost:8080/",
          "height": 423
        },
        "id": "9MXUn2OZylrQ",
        "outputId": "a08f1d35-eb20-4ae0-a111-903fd3f681a5"
      },
      "outputs": [],
      "source": [
        "#문제75.   타이타닉 데이터 프레임에서 Age 와 순위를 출력하는데 순위가\n",
        "#           Age 가 높은 순서데로 순위를 부여하시오 !\n",
        "\n"
      ]
    },
    {
      "cell_type": "code",
      "execution_count": null,
      "metadata": {
        "colab": {
          "base_uri": "https://localhost:8080/",
          "height": 423
        },
        "id": "EKNjhjpM6uAO",
        "outputId": "f0a5c412-afec-4389-ed18-c25f1dd8bedd"
      },
      "outputs": [],
      "source": [
        "#문제76.  타이타닉의  Age 컬럼을  age_grade 라는 컬럼을 추가하고\n",
        "#         등급을 4등급으로 나누시오 (1~4)\n",
        "\n",
        "# 참고 코드: emp20['age_grade'] = pd.qcut( emp20.순위, q=cuts  )   \n",
        "\n"
      ]
    },
    {
      "cell_type": "code",
      "execution_count": null,
      "metadata": {
        "colab": {
          "base_uri": "https://localhost:8080/",
          "height": 143
        },
        "id": "qFrCzqnj6uDF",
        "outputId": "de95305b-3390-44bf-b59d-a8f4a1a99b31"
      },
      "outputs": [],
      "source": [
        "# ▩ 예제24. 그룹 별로 가로로 출력하는 오라클 listagg 를 파이썬으로 구현하기 \n",
        "\n",
        "emp.groupby('deptno')['ename'].apply(list).reset_index(name='employee' )"
      ]
    },
    {
      "cell_type": "code",
      "execution_count": null,
      "metadata": {
        "colab": {
          "base_uri": "https://localhost:8080/",
          "height": 143
        },
        "id": "ndppgzfH6uFx",
        "outputId": "d1c04f40-2c1a-451e-ee2e-3d323a9705cf"
      },
      "outputs": [],
      "source": [
        "#문제77.  통신사, 통신사별 학생 이름을 가로로 출력하시오 \n",
        "\n",
        "\n",
        "emp20=pd.read_csv(\"/content/drive/MyDrive/data100/emp20.csv\", encoding=\"euckr\")\n",
        "\n",
        "\n"
      ]
    },
    {
      "cell_type": "code",
      "execution_count": null,
      "metadata": {
        "colab": {
          "base_uri": "https://localhost:8080/",
          "height": 488
        },
        "id": "yDACwe1D6uIb",
        "outputId": "171c894a-d0ee-4f24-946a-06317deccc82"
      },
      "outputs": [],
      "source": [
        "# ▩ 예제25.  그 전행과 그 다음행을 출력하기 \n",
        "\n",
        "emp = pd.read_csv(\"/content/drive/MyDrive/data100/emp.csv\")\n",
        "\n",
        "emp['sal_lag']  =  emp['sal'].shift(1).fillna(0).astype(int)  # 월급을 아래로 한칸 이동\n",
        "emp['sal_lead']  = emp['sal'].shift(-1).fillna(0).astype(int) # 월급을 위로 한칸 이동\n",
        "\n",
        "emp[ ['ename', 'sal', 'sal_lag', 'sal_lead'] ] "
      ]
    },
    {
      "cell_type": "code",
      "execution_count": null,
      "metadata": {
        "colab": {
          "base_uri": "https://localhost:8080/",
          "height": 488
        },
        "id": "Nils8ac2yluI",
        "outputId": "dbfead74-8ee5-4fa5-da6b-4b644defccb7"
      },
      "outputs": [],
      "source": [
        "#문제78.  이름, 입사일, 바로전행의 입사일을 출력하세요\n",
        "\n",
        "emp = pd.read_csv(\"/content/drive/MyDrive/data100/emp.csv\")\n",
        "\n"
      ]
    },
    {
      "cell_type": "code",
      "execution_count": null,
      "metadata": {
        "colab": {
          "base_uri": "https://localhost:8080/",
          "height": 115
        },
        "id": "apEIp26Y8gRV",
        "outputId": "522777a3-beb5-45b7-8390-47bae1fedc3e"
      },
      "outputs": [],
      "source": [
        "# ▩ 예제26.   pivot  을 이용해서 데이터 회전 시키기 \n",
        "\n",
        "#     행 ----------->  컬럼  :   pivot \n",
        "\n",
        "emp = pd.read_csv(\"/content/drive/MyDrive/data100/emp.csv\")\n",
        "\n",
        "result =emp.pivot_table( columns='deptno',  values='sal',  aggfunc='sum')\n",
        "result.style.hide_index()\n"
      ]
    },
    {
      "cell_type": "code",
      "execution_count": null,
      "metadata": {
        "colab": {
          "base_uri": "https://localhost:8080/",
          "height": 115
        },
        "id": "xiirQAHX8gUS",
        "outputId": "b4741123-4039-45da-f350-431c099e377b"
      },
      "outputs": [],
      "source": [
        "#문제79. 직업과 직업별 토탈월급을 출력하는데 아래와 같이 출력되게 하세요.\n",
        "\n",
        "emp = pd.read_csv(\"/content/drive/MyDrive/data100/emp.csv\")\n",
        "\n"
      ]
    },
    {
      "cell_type": "code",
      "execution_count": null,
      "metadata": {
        "colab": {
          "base_uri": "https://localhost:8080/",
          "height": 237
        },
        "id": "x7qADoNH8gXN",
        "outputId": "591b193a-78ff-4300-a772-97945d0909d5"
      },
      "outputs": [],
      "source": [
        "# 문제80.직업, 부서번호, 직업별 부서번호별 토탈월급을 출력하시오 !\n",
        "\n",
        "emp = pd.read_csv(\"/content/drive/MyDrive/data100/emp.csv\")\n",
        "\n"
      ]
    },
    {
      "cell_type": "code",
      "execution_count": null,
      "metadata": {
        "colab": {
          "base_uri": "https://localhost:8080/",
          "height": 707
        },
        "id": "FCJYFv528gpk",
        "outputId": "444aed13-5b40-4fe3-e9df-2408136352f1"
      },
      "outputs": [],
      "source": [
        "\n",
        "# 문제81.   우리반 테이블(emp20)에서  주소 컬럼의 앞글자 3글자를 담는 파생변수를\n",
        "#           address_front_3 이라는 컬럼으로 생성하시오 ! \n",
        "\n",
        "import pandas as pd\n",
        "\n",
        "emp20=pd.read_csv(\"/content/drive/MyDrive/data100/emp20.csv\", encoding=\"euckr\")\n",
        "\n",
        "\n"
      ]
    },
    {
      "cell_type": "code",
      "execution_count": null,
      "metadata": {
        "colab": {
          "base_uri": "https://localhost:8080/",
          "height": 117
        },
        "id": "w_Cf5GeO8gtF",
        "outputId": "3dc5f0fb-8ab3-40d4-999f-ce30bf26f2fa"
      },
      "outputs": [],
      "source": [
        "#문제82.   address_front_3 을 출력하고 address_front_3 별 인원수를 가로로\n",
        "#          출력하시오 !\n",
        "\n",
        "emp20=pd.read_csv(\"/content/drive/MyDrive/data100/emp20.csv\", encoding=\"euckr\")\n"
      ]
    },
    {
      "cell_type": "code",
      "execution_count": null,
      "metadata": {
        "id": "Ykv8E9hiA4VJ"
      },
      "outputs": [],
      "source": [
        "\n",
        "▩ 예제27.  SQL의  조인을 판다스로 구현하기 \n",
        "\n",
        "         SQL                    vs                    판다스 \n",
        "\n",
        "equi  join\n",
        "non equi  join                                        pd.merge 함수 \n",
        "outer   join\n",
        "self   join  \n",
        "\n"
      ]
    },
    {
      "cell_type": "code",
      "execution_count": null,
      "metadata": {
        "colab": {
          "base_uri": "https://localhost:8080/",
          "height": 175
        },
        "id": "2eUq7zicA4YC",
        "outputId": "26f6b334-d804-4514-da0b-b3d02c9cf6f2"
      },
      "outputs": [],
      "source": [
        "\n",
        "#문제83.   dept.csv 를  dept  데이터 프레임으로 구성하시오 !\n",
        "\n",
        "dept = pd.read_csv(\"/content/drive/MyDrive/data100/dept.csv\")\n",
        "dept"
      ]
    },
    {
      "cell_type": "code",
      "execution_count": null,
      "metadata": {
        "colab": {
          "base_uri": "https://localhost:8080/",
          "height": 488
        },
        "id": "_AmVTUFJA4aw",
        "outputId": "4c41eb40-5682-46ee-929a-fe8a456d46e7"
      },
      "outputs": [],
      "source": [
        "#문제84. 이름과 부서위치를 출력하세요\n",
        "\n",
        "#답:\n",
        "emp = pd.read_csv(\"/content/drive/MyDrive/data100/emp.csv\")\n",
        "dept = pd.read_csv(\"/content/drive/MyDrive/data100/dept.csv\")\n",
        "\n",
        "\n",
        "import pandas  as  pd\n",
        "\n",
        "\n"
      ]
    },
    {
      "cell_type": "code",
      "execution_count": null,
      "metadata": {
        "colab": {
          "base_uri": "https://localhost:8080/",
          "height": 175
        },
        "id": "UYdjZ_-hA4eB",
        "outputId": "3bb6736f-8ebc-4b34-d5c7-e07f38617067"
      },
      "outputs": [],
      "source": [
        "# 문제85.  직업이 SALESMAN인 사원들의 이름과 부서위치를 출력하세요.\n",
        "\n",
        "emp = pd.read_csv(\"/content/drive/MyDrive/data100/emp.csv\")\n",
        "dept = pd.read_csv(\"/content/drive/MyDrive/data100/dept.csv\")\n",
        "\n",
        "\n"
      ]
    },
    {
      "cell_type": "code",
      "execution_count": null,
      "metadata": {
        "colab": {
          "base_uri": "https://localhost:8080/",
          "height": 394
        },
        "id": "g6k6icBiA4gv",
        "outputId": "5fb37934-79a0-49f9-e181-9901f0844294"
      },
      "outputs": [],
      "source": [
        "# 문제86. 월급이 1000 에서 3000 사이인 사원들의 이름과 부서위치와\n",
        "#         월급을 출력하세요.\n",
        "\n",
        "emp = pd.read_csv(\"/content/drive/MyDrive/data100/emp.csv\")\n",
        "dept = pd.read_csv(\"/content/drive/MyDrive/data100/dept.csv\")\n",
        "\n"
      ]
    },
    {
      "cell_type": "code",
      "execution_count": null,
      "metadata": {
        "colab": {
          "base_uri": "https://localhost:8080/",
          "height": 175
        },
        "id": "et5npk4pA4kB",
        "outputId": "9f7ab158-c0cb-4299-bf28-d32d10a33285"
      },
      "outputs": [],
      "source": [
        "#문제87. 월급이 1000 에서 3000 사이이고 직업이 SALESMAN인 사원들의\n",
        "#        이름과 부서위치와 월급과 직업을 출력하세요.\n",
        "\n",
        "\n",
        "#* 논리 연산자  :      1.  and      -------->    &\n",
        "#                      2.  or       --------->   &&\n",
        "#                      3.  not     ---------->  ~\n",
        "\n",
        "emp = pd.read_csv(\"/content/drive/MyDrive/data100/emp.csv\")\n",
        "dept = pd.read_csv(\"/content/drive/MyDrive/data100/dept.csv\")\n"
      ]
    },
    {
      "cell_type": "code",
      "execution_count": null,
      "metadata": {
        "id": "-ZbHxqIkCDmY"
      },
      "outputs": [],
      "source": [
        "▩ 예제28.  SQL의 아우터  조인을 판다스로 구현하기 \n",
        "\n",
        "\n",
        "pd.merge(  emp, dept,  on='deptno',  how='inner' )  \n",
        "\n",
        "how='right'   는 dept 테이블 쪽의 데이터가 모두 나오게 해라!\n",
        "how='left'    는  emp 테이블 쪽의 데이터가 모두 나오게 해라 !\n",
        "how='outer'   는  오라클의 full outer 조인과 똑같습니다. (양쪽의 데이터가 모두\n",
        "                     다 나오게 해라 )\n",
        "how='inner'    는 오라클의  equi  join 과 똑같습니다.\n"
      ]
    },
    {
      "cell_type": "code",
      "execution_count": null,
      "metadata": {
        "colab": {
          "base_uri": "https://localhost:8080/",
          "height": 519
        },
        "id": "cAdkdKUYCDpm",
        "outputId": "ca6ff1ff-c285-4f6c-f499-85a668dccbdc"
      },
      "outputs": [],
      "source": [
        "#문제88. 이름과 부서위치를 출력하는데 부서위치에 BOSTON도 \n",
        "#        같이 출력하세요\n",
        "\n",
        "# select  e.ename,  d.loc\n",
        "#    from   emp   e,   dept    d\n",
        "#    where    e.deptno (+) = d.deptno ;\n",
        "\n",
        "emp = pd.read_csv(\"/content/drive/MyDrive/data100/emp.csv\")\n",
        "dept = pd.read_csv(\"/content/drive/MyDrive/data100/dept.csv\")\n",
        "\n"
      ]
    },
    {
      "cell_type": "code",
      "execution_count": null,
      "metadata": {
        "colab": {
          "base_uri": "https://localhost:8080/",
          "height": 488
        },
        "id": "jpTeBV5VCDsp",
        "outputId": "5a3315f5-c036-410b-a977-22ce14787366"
      },
      "outputs": [],
      "source": [
        "#문제89. 아래의 SQL을 판다스로 구현하세요 \n",
        "\n",
        "\n",
        "# select  e.ename,  d.loc\n",
        "#    from   emp   e,   dept    d\n",
        "#    where    e.deptno = d.deptno (+) ;\n",
        "\n",
        "emp = pd.read_csv(\"/content/drive/MyDrive/data100/emp.csv\")\n",
        "dept = pd.read_csv(\"/content/drive/MyDrive/data100/dept.csv\")\n",
        "\n",
        "\n"
      ]
    },
    {
      "cell_type": "code",
      "execution_count": null,
      "metadata": {
        "colab": {
          "base_uri": "https://localhost:8080/",
          "height": 519
        },
        "id": "_V9LylEFCDwG",
        "outputId": "9fe790ef-904a-4500-c027-b96ba037d66f"
      },
      "outputs": [],
      "source": [
        "#문제90.  아래의 SQL을 판다스로 구현하시오\n",
        "\n",
        "# select  e.ename,  d.loc\n",
        "#  from   emp   e    full   outer    join    dept    d\n",
        "#   on   ( e.deptno = d.deptno );\n",
        "\n",
        "emp = pd.read_csv(\"/content/drive/MyDrive/data100/emp.csv\")\n",
        "dept = pd.read_csv(\"/content/drive/MyDrive/data100/dept.csv\")\n",
        "\n",
        "\n",
        "\n",
        "\n"
      ]
    },
    {
      "cell_type": "code",
      "execution_count": null,
      "metadata": {
        "colab": {
          "base_uri": "https://localhost:8080/",
          "height": 143
        },
        "id": "GayneQzbCD7d",
        "outputId": "f645139d-fca7-449a-c9d5-fa216a57ecfc"
      },
      "outputs": [],
      "source": [
        "# 문제91.  부서위치, 부서위치별 토탈월급을 출력하세요\n",
        "\n",
        "# select   d.loc,   sum(e.sal)\n",
        "#   from   emp   e,   dept   d\n",
        "#   where   e.deptno = d.deptno\n",
        "#   group    by   d.loc; \n",
        "\n",
        "emp = pd.read_csv(\"/content/drive/MyDrive/data100/emp.csv\")\n",
        "dept = pd.read_csv(\"/content/drive/MyDrive/data100/dept.csv\")\n",
        "\n",
        "emp_dept =  pd.merge( emp, dept, on='deptno', how='inner')\n",
        "result = emp_dept.groupby('loc')['sal'].sum().reset_index()\n",
        "result.columns = ['부서위치','토탈월급']\n",
        "result"
      ]
    },
    {
      "cell_type": "code",
      "execution_count": null,
      "metadata": {
        "colab": {
          "base_uri": "https://localhost:8080/",
          "height": 143
        },
        "id": "ma3T9NTkCD-j",
        "outputId": "fcddaafd-e905-40ca-af85-caf1ec7f8ce7"
      },
      "outputs": [],
      "source": [
        "# 문제92. 부서명, 부서명별 평균월급을 출력하세요\n",
        "\n",
        "emp = pd.read_csv(\"/content/drive/MyDrive/data100/emp.csv\")\n",
        "dept = pd.read_csv(\"/content/drive/MyDrive/data100/dept.csv\")\n",
        "\n",
        "emp_dept =  pd.merge( emp, dept, on='deptno', how='inner')\n",
        "result = emp_dept.groupby('dname')['sal'].mean().reset_index()\n",
        "result.columns = ['부서명','평균월급']\n",
        "result"
      ]
    },
    {
      "cell_type": "code",
      "execution_count": null,
      "metadata": {
        "id": "9ps-j4OLCECa"
      },
      "outputs": [],
      "source": []
    },
    {
      "cell_type": "code",
      "execution_count": null,
      "metadata": {
        "id": "wB4hpihKCEHZ"
      },
      "outputs": [],
      "source": [
        "\n",
        "▩ 예제29.  판다스의 집합 연산자  \n",
        "\n",
        "             SQL                          vs                 판다스 \n",
        "\n",
        "1.  union   all                                             pd.concat \n",
        "2.  union                                                   pd.concat + drop_duplicates()\n",
        "3.  intersect                                              아래의 코드 \n",
        "4.  minus                                                  아래의 코드 \n"
      ]
    },
    {
      "cell_type": "code",
      "execution_count": null,
      "metadata": {
        "colab": {
          "base_uri": "https://localhost:8080/",
          "height": 394
        },
        "id": "N5jEUCDPCEKx",
        "outputId": "76565284-2960-48e0-ca33-f8a9816370fb"
      },
      "outputs": [],
      "source": [
        "\n",
        "\n",
        "#문제93. emp 데이터 프레임에서 부서번호가 10번, 20번인 사원들의 이름과 월급과 부서번호를 출력하고 \n",
        "#        그 밑에 바로 부서번호가 10번인 사원들의 이름과 월급과 부서번호를 출력하시오\n",
        "\n",
        "\"\"\"\n",
        "select  ename, sal, deptno\n",
        "   from   emp\n",
        "   where   deptno   in ( 10, 20 )\n",
        "union   all\n",
        "  select   ename, sal, deptno\n",
        "   from  emp\n",
        "   where   deptno = 10;\n",
        "   \"\"\"\n",
        "\n",
        "# union all 은 그냥 위의  sql 의 결과와 밑의 sql 의 결과를 하나로 합쳐서 출력합니다. \n",
        "\n",
        "emp = pd.read_csv(\"/content/drive/MyDrive/data100/emp.csv\")\n",
        "\n",
        "x1 = emp[['ename','sal','deptno']] [ emp['deptno'].isin([10,20]) ]\n",
        "x2 = emp[['ename','sal','deptno']] [ emp['deptno']== 10 ]\n",
        "pd.concat([x1,x2], axis=0)\n",
        "\n",
        "# 설명 : axis = 0  은 위아래로 연결( 기본값)\n",
        "#        axis= 1 은 양옆으로 연결 \n"
      ]
    },
    {
      "cell_type": "code",
      "execution_count": null,
      "metadata": {
        "colab": {
          "base_uri": "https://localhost:8080/",
          "height": 739
        },
        "id": "TNbL0wW-V-_N",
        "outputId": "afa803cb-6e7f-4036-901f-82b0c44f8141"
      },
      "outputs": [],
      "source": [
        "\n",
        "# 문제94. 통신사가 kt, lg 인 학생들의 이름과 나이와 통신사를 출력하고 \n",
        "#         그 밑에 통신사가 sk, lg 인 학생들의 이름과 나이와 통신사를 출력하시오   \n",
        "\n",
        "\"\"\"\n",
        "select    ename,  age,  telecom\n",
        "   from   emp20\n",
        "   where   telecom  in ( 'kt', 'lg')\n",
        "union  all\n",
        "select  ename, age, telecom\n",
        "   from   emp20\n",
        "   where    telecom in  ('sk', 'lg')  ;\n",
        "\n",
        "\"\"\"\n",
        "#답: \n",
        "\n",
        "emp20=pd.read_csv(\"/content/drive/MyDrive/data100/emp20.csv\", encoding=\"euckr\")\n",
        "\n",
        "x1=emp20[['ename','age','telecom']] [ emp20.telecom.isin(['kt','lg']) ]\n",
        "x2=emp20[['ename','age','telecom']] [ emp20.telecom.isin(['sk','lg']) ]\n",
        "pd.concat([x1, x2], axis=0)\n"
      ]
    },
    {
      "cell_type": "code",
      "execution_count": null,
      "metadata": {
        "colab": {
          "base_uri": "https://localhost:8080/",
          "height": 707
        },
        "id": "Wt0C9Jn8V_DB",
        "outputId": "477afd54-e25e-494d-c750-32f97cdd08a2"
      },
      "outputs": [],
      "source": [
        "\n",
        "# 문제95.  문제94번의 통신사가 kt, lg 인 학생들의 이름과 나이와 통신사를 출력하고 \n",
        "#         그 밑에 통신사가 sk, lg 인 학생들의 이름과 나이와 통신사를 출력하는데 \n",
        "#         중복되는 행(row) 은 제거하고 출력하시오\n",
        "\n",
        "\n",
        "\"\"\"\n",
        "select    ename,  age,  telecom\n",
        "   from   emp16\n",
        "   where   telecom  in ( 'kt', 'lg')\n",
        "union \n",
        "select  ename, age, telecom\n",
        "   from   emp16\n",
        "   where    telecom in  ('sk', 'lg')  ;\n",
        "\"\"\"\n",
        "#답:\n",
        "emp20=pd.read_csv(\"/content/drive/MyDrive/data100/emp20.csv\", encoding=\"euckr\")\n",
        "\n",
        "x1=emp20[['ename','age','telecom']] [ emp20.telecom.isin(['kt','lg']) ]\n",
        "x2=emp20[['ename','age','telecom']] [ emp20.telecom.isin(['sk','lg']) ]\n",
        "pd.concat([x1, x2], axis=0).drop_duplicates()\n"
      ]
    },
    {
      "cell_type": "code",
      "execution_count": null,
      "metadata": {
        "colab": {
          "base_uri": "https://localhost:8080/",
          "height": 300
        },
        "id": "rAVPwXdAiy3N",
        "outputId": "87da469e-0aa7-46a3-ce08-7193402a5bbf"
      },
      "outputs": [],
      "source": [
        "emp_old_backup = pd.read_csv(\"/content/drive/MyDrive/data100/emp_old_backup.csv\")\n",
        "emp_old_backup"
      ]
    },
    {
      "cell_type": "code",
      "execution_count": null,
      "metadata": {
        "colab": {
          "base_uri": "https://localhost:8080/",
          "height": 237
        },
        "id": "iURit5qwV_HT",
        "outputId": "0080bf1c-829b-4818-b7ce-f7034d5fafa9"
      },
      "outputs": [],
      "source": [
        "\n",
        "#문제96. 아래의  SQL을 판다스로 구현하시오\n",
        "\n",
        "\n",
        "\"\"\"\n",
        "select  ename, sal, deptno\n",
        "   from   emp\n",
        "minus \n",
        "  select   ename, sal, deptno\n",
        "   from  emp_old_backup\n",
        "\"\"\"\n",
        "\n",
        "#답:\n",
        "emp = pd.read_csv(\"/content/drive/MyDrive/data100/emp.csv\")\n",
        "emp_old_backup = pd.read_csv(\"/content/drive/MyDrive/data100/emp_old_backup.csv\")\n",
        "\n",
        "# 설명:  x1.ename.isin(x2.ename)==True  이면 ?  x1 과 x2 의 교집합이 출력\n",
        "#        x1.ename.isin(x2.ename)==False 이면 ?  x1 과 x2 의 차집합이 출력\n",
        "#                                               x1 에는 존재하는데 x2 에는 없는\n",
        "#                                               데이터가 출력됨\n",
        "\n",
        "x1 = emp[['ename','sal','deptno']]\n",
        "x2 = emp_old_backup[['ename','sal','deptno']]\n",
        "x1[:] [ x1.ename.isin(x2.ename)==False]\n"
      ]
    },
    {
      "cell_type": "code",
      "execution_count": null,
      "metadata": {
        "colab": {
          "base_uri": "https://localhost:8080/",
          "height": 269
        },
        "id": "rCAyVMi9V_LV",
        "outputId": "038101f4-d8b8-4bed-ad7b-828c11862257"
      },
      "outputs": [],
      "source": [
        "\n",
        "#문제97. 아래의 SQL을 판다스로 구현하시오\n",
        "\n",
        "\"\"\"\n",
        "select    ename,  age,  telecom\n",
        "   from   emp20\n",
        "   where  telecom  in ('kt', 'lg')\n",
        "minus\n",
        "select  ename, age, telecom\n",
        "   from   emp20\n",
        "   where  telecom in ('sk', 'lg');\n",
        "\"\"\"\n",
        "#답:\n",
        "emp20=pd.read_csv(\"/content/drive/MyDrive/data100/emp20.csv\", encoding=\"euckr\")\n",
        "\n",
        "x1 = emp20[['ename', 'age', 'telecom']] [  emp20.telecom.isin(['kt', 'lg'])  ]  \n",
        "x2 = emp20[['ename', 'age', 'telecom']] [  emp20.telecom.isin(['sk', 'lg'])  ]  \n",
        "x1[:] [ x1.ename.isin(x2.ename)==False] "
      ]
    },
    {
      "cell_type": "code",
      "execution_count": null,
      "metadata": {
        "colab": {
          "base_uri": "https://localhost:8080/",
          "height": 300
        },
        "id": "qBmYHuz4V_No",
        "outputId": "9905815f-c5fe-46a9-e0fb-6a761b5db327"
      },
      "outputs": [],
      "source": [
        "\n",
        "#문제98.  아래의 SQL을 판다스로 구현하시오\n",
        "\n",
        "\"\"\"\n",
        "select  ename, sal, deptno\n",
        "   from   emp\n",
        "intersect\n",
        "  select   ename, sal, deptno\n",
        "   from  emp_old_backup\n",
        "\"\"\"\n",
        "#답:\n",
        "emp = pd.read_csv(\"/content/drive/MyDrive/data100/emp.csv\")\n",
        "emp_old_backup = pd.read_csv(\"/content/drive/MyDrive/data100/emp_old_backup.csv\")\n",
        "\n",
        "x1 = emp[['ename','sal','deptno']]\n",
        "x2 = emp_old_backup[['ename','sal','deptno']]\n",
        "x1[:] [ x1.ename.isin(x2.ename)==True]"
      ]
    },
    {
      "cell_type": "code",
      "execution_count": null,
      "metadata": {
        "colab": {
          "base_uri": "https://localhost:8080/",
          "height": 901
        },
        "id": "zTwSrfLQV_XI",
        "outputId": "ec15a969-a712-48ee-ab58-954b353d0251"
      },
      "outputs": [],
      "source": [
        "#문제99. 위의 csv 파일을 불러와서 market_2017 과 market_2022  데이터 프레임을 생성하시오 !\n",
        "\n",
        "#공공 데이터 포털 서울시 소상공인 데이터 검색\n",
        "\n",
        "market_2017 = pd.read_csv(\"/content/drive/MyDrive/data100/market_2017.csv\", encoding='cp949')\n",
        "\n",
        "market_2022 = pd.read_csv(\"/content/drive/MyDrive/data100/market_2022.csv\", encoding='cp949')\n",
        "\n",
        "market_2022"
      ]
    },
    {
      "cell_type": "code",
      "execution_count": null,
      "metadata": {
        "colab": {
          "base_uri": "https://localhost:8080/"
        },
        "id": "otDuTNyBV_ax",
        "outputId": "4422b338-6182-4e80-b1c8-77bab888db86"
      },
      "outputs": [],
      "source": [
        "#문제100.  2017년도에는 존재했는데 2022년도에 사라진 편의점의 갯수는 몇개인가?\n",
        "\n",
        "x1 = market_2017[['상가업소번호']] [ market_2017['상권업종소분류명']=='편의점']\n",
        "x2 = market_2022[['상가업소번호']] [ market_2022['상권업종소분류명']=='편의점']\n",
        "x3  = x1[:] [ x1.상가업소번호.isin(x2.상가업소번호) == False ] \n",
        "x3[['상가업소번호']].count()\n",
        "\n"
      ]
    },
    {
      "cell_type": "code",
      "execution_count": null,
      "metadata": {
        "id": "2lBT4fpqV_d8"
      },
      "outputs": [],
      "source": []
    }
  ],
  "metadata": {
    "colab": {
      "provenance": []
    },
    "kernelspec": {
      "display_name": "Python 3",
      "name": "python3"
    },
    "language_info": {
      "codemirror_mode": {
        "name": "ipython",
        "version": 3
      },
      "file_extension": ".py",
      "mimetype": "text/x-python",
      "name": "python",
      "nbconvert_exporter": "python",
      "pygments_lexer": "ipython3",
      "version": "3.12.3"
    }
  },
  "nbformat": 4,
  "nbformat_minor": 0
}
